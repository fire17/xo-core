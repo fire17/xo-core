{
 "cells": [
  {
   "cell_type": "markdown",
   "id": "f8b0fe4f",
   "metadata": {},
   "source": [
    "# This will give examples on how to use xo..."
   ]
  },
  {
   "cell_type": "code",
   "execution_count": 1,
   "id": "cb4a5864",
   "metadata": {},
   "outputs": [
    {
     "name": "stdout",
     "output_type": "stream",
     "text": [
      "xo = None\n"
     ]
    }
   ],
   "source": [
    "# Start using xo\n",
    "from xo import *\n",
    "# OR\n",
    "# import xo\n",
    "# xo = xo.xo\n",
    "\n",
    "xo.show() # starts as None"
   ]
  },
  {
   "cell_type": "code",
   "execution_count": 2,
   "id": "7405d524",
   "metadata": {},
   "outputs": [],
   "source": [
    "# from IPython import get_ipython\n",
    "# ipython = get_ipython()\n",
    "\n",
    "# ipython.\n",
    "# dreload(xo)\n",
    "# xo.reload(xo)\n",
    "import json\n",
    "import time\n",
    "# xo.reload()\n",
    "# xo = xo.Expando()\n",
    "# xo = xo._Expando()\n",
    "\n",
    "\n",
    "# import xo ; xo = xo.ok()\n",
    "# import xo ; xo = xo.ok()\n"
   ]
  },
  {
   "cell_type": "code",
   "execution_count": 3,
   "id": "baacd400",
   "metadata": {},
   "outputs": [
    {
     "name": "stdout",
     "output_type": "stream",
     "text": [
      " ::: Subscribing to fullname\n",
      "keys ['name.first', 'name.last']\n",
      " ::: Subscribing to first\n",
      " ::: Subscribing to last\n",
      "Fullname Changed: Ido Senesh\n",
      "keys ['pet.age']\n",
      " ::: Subscribing to age\n",
      " ::: Subscribing to dogyears\n",
      "•••••••••••••••••••••••••••\n",
      "Ido Senesh's dog is called Bambi and he is 3 (or 21 in dogyears) \n",
      "Fullname Changed: Ido King\n",
      "Ido King's dog is called Bambi and he is 111 (or 777 in dogyears) \n",
      "•••••••••••••••••••••••••••\n",
      "xo = 'Ido'\n",
      "    name = None\n",
      "        first = 'Ido'\n",
      "        last = 'King'\n",
      "    showFullname = <function <lambda> at 0x7fc5c43b6af0>\n",
      "    fullname = 'Ido King'\n",
      "        formula = <function <lambda> at 0x7fc5c43b6e50>\n",
      "    pet = None\n",
      "        name = 'Bambi'\n",
      "        age = 111\n",
      "        dogyears = 777\n",
      "            formula = <function <lambda> at 0x7fc5c427c0d0>\n",
      "____________________________\n",
      "Fullname Changed: idris King\n",
      "____________________________\n",
      "Fullname Changed: idris yaz\n",
      "\n"
     ]
    }
   ],
   "source": [
    "# Personal Data\n",
    "xo._setValue(\"Ido\")\n",
    "xo.name.first = \"Ido\"\n",
    "xo.name.last = \"Senesh\"\n",
    "\n",
    "# Subscribing to fullname changes, Function will display the full name\n",
    "xo.showFullname = lambda x=\"Yoooooooooooooo\": print(f\"Fullname Changed: {xo.fullname}\")\n",
    "xo.fullname @= xo.showFullname\n",
    "\n",
    "# Formula for the full name : will be evaluated when children are modified\n",
    "xo.fullname <<= lambda: f\"{xo.name.first} {xo.name.last}\"\n",
    "\n",
    "# More declarations \n",
    "xo.pet.name = \"Bambi\"\n",
    "xo.pet.age = 2\n",
    "xo.pet.dogyears <<= lambda: xo.pet.age * 7\n",
    "xo.pet.dogyears @= lambda dogyears: print(f\"{xo.fullname}'s dog is called {xo.pet.name} and he is {xo.pet.age} (or {xo.pet.dogyears} in dogyears) \")\n",
    "\n",
    "# Data Propagation \n",
    "print(\"•••••••••••••••••••••••••••\")\n",
    "xo.pet.age = 3\n",
    "xo.name.last = \"King\"\n",
    "xo.pet.age = 111\n",
    "print(\"•••••••••••••••••••••••••••\")\n",
    "xo.show()\n",
    "# xo.fullname <<= lambda: f\"{xo.name.first}, {xo.name.last}\"\n",
    "\n",
    "\n",
    "print(\"____________________________\")\n",
    "xo.name.first = \"idris\"\n",
    "print(\"____________________________\")\n",
    "xo.name.last = \"yaz\"\n",
    "print()\n",
    "# print(\"____________________________\")"
   ]
  },
  {
   "cell_type": "code",
   "execution_count": null,
   "id": "e7f53f5c",
   "metadata": {},
   "outputs": [],
   "source": []
  },
  {
   "cell_type": "code",
   "execution_count": null,
   "id": "72825d1f",
   "metadata": {},
   "outputs": [],
   "source": []
  },
  {
   "cell_type": "code",
   "execution_count": 4,
   "id": "2ba02a99",
   "metadata": {},
   "outputs": [
    {
     "name": "stdout",
     "output_type": "stream",
     "text": [
      " ::: Subscribing to input\n",
      "simpleAction! hello\n",
      "simpleAction! some more data\n"
     ]
    }
   ],
   "source": [
    "def simpleAction(x):\n",
    "    print(\"simpleAction!\",x)\n",
    "    # return x\n",
    "\n",
    "xo.input @= simpleAction\n",
    "xo.input = \"hello\"\n",
    "xo.input = \"some more data\"\n",
    "\n",
    "\n",
    "\n",
    "# x = lambda x: \"hello\"\n",
    "# print(x.__name__)\n",
    "# dict([(t.__name__, t) for t in [x,simpleAction,xo.input]])\n"
   ]
  },
  {
   "cell_type": "markdown",
   "id": "ab97ff65",
   "metadata": {},
   "source": [
    "TODO: make hashable, make _val=stack() check if object is _subscribers"
   ]
  },
  {
   "cell_type": "code",
   "execution_count": 5,
   "id": "5cac86d9",
   "metadata": {},
   "outputs": [
    {
     "name": "stdout",
     "output_type": "stream",
     "text": [
      "xo/name\n",
      "xo/name/first\n",
      "xo/name/last\n",
      "xo/showFullname\n",
      "xo/fullname\n",
      "xo/fullname/formula\n",
      "xo/pet\n",
      "xo/pet/name\n",
      "xo/pet/age\n",
      "xo/pet/dogyears\n",
      "xo/pet/dogyears/formula\n",
      "xo/input\n",
      "xo/getdoc\n",
      "xo/c\n",
      "xo/c/a\n",
      "xo/a\n",
      "xo/a/b\n",
      "xo/a/b/c\n"
     ]
    }
   ],
   "source": [
    "\n",
    "xo.c.a = 1\n",
    "# xo.b.c = 1\n",
    "# xo.c.d.e = 1\n",
    "# xo.d.e.f.g = 1\n",
    "# xo.c.d.e.end = 1\n",
    "# xo.b.c.d.e.f = 1\n",
    "\n",
    "xo.a.b.c\n",
    "\n",
    "xo.tree()\n",
    "\n",
    "for a in xo.tree():\n",
    "    print(a._id,)"
   ]
  },
  {
   "cell_type": "code",
   "execution_count": 6,
   "id": "e66c24f7",
   "metadata": {},
   "outputs": [
    {
     "name": "stdout",
     "output_type": "stream",
     "text": [
      "name = None\n",
      "    first = 'idris'\n",
      "    last = 'yaz'\n",
      "\n",
      "showFullname = <function <lambda> at 0x7fc5c43b6af0>\n",
      "\n",
      "iiiiiiiiiii xo/showFullname\n",
      "Fullname Changed: idris yaz\n",
      "fullname = 'idris yaz'\n",
      "    formula = <function <lambda> at 0x7fc5c43b6e50>\n",
      "\n",
      "pet = None\n",
      "    name = 'Bambi'\n",
      "    age = 111\n",
      "    dogyears = 777\n",
      "        formula = <function <lambda> at 0x7fc5c427c0d0>\n",
      "\n",
      "input = 'some more data'\n",
      "\n",
      "getdoc = None\n",
      "\n",
      "c = None\n",
      "    a = 1\n",
      "\n",
      "a = None\n",
      "    b = None\n",
      "        c = None\n",
      "\n"
     ]
    },
    {
     "data": {
      "text/plain": [
       "{'_name': 'xo',\n",
       " '_id': 'xo',\n",
       " '_isRoot': True,\n",
       " '_parent': None,\n",
       " '_subscribers': [],\n",
       " '_val': 'Ido',\n",
       " '_zzz': 5,\n",
       " 'name': {xobject 'xo.name': 'None' ::: children(2):['first', 'last']},\n",
       " 'showFullname': None,\n",
       " 'fullname': idris yaz,\n",
       " 'pet': {xobject 'xo.pet': 'None' ::: children(3):['name', 'age', 'dogyears']},\n",
       " 'input': {xobject 'xo.input': 'some more data' ::: children(0)},\n",
       " 'getdoc': {xobject 'xo.getdoc': 'None' ::: children(0)},\n",
       " 'c': {xobject 'xo.c': 'None' ::: children(1):['a']},\n",
       " 'a': {xobject 'xo.a': 'None' ::: children(1):['b']}}"
      ]
     },
     "execution_count": 6,
     "metadata": {},
     "output_type": "execute_result"
    }
   ],
   "source": [
    "# xo.__dict__.keys()\n",
    "# xo.show()\n",
    "# print(\".........\")\n",
    "dict(xo)\n"
   ]
  }
 ],
 "metadata": {
  "kernelspec": {
   "display_name": "Python 3.8.12 64-bit",
   "language": "python",
   "name": "python3"
  },
  "language_info": {
   "codemirror_mode": {
    "name": "ipython",
    "version": 3
   },
   "file_extension": ".py",
   "mimetype": "text/x-python",
   "name": "python",
   "nbconvert_exporter": "python",
   "pygments_lexer": "ipython3",
   "version": "3.8.12"
  },
  "vscode": {
   "interpreter": {
    "hash": "0adcc2737ebf6a4a119f135174df96668767fca1ef1112612db5ecadf2b6d608"
   }
  }
 },
 "nbformat": 4,
 "nbformat_minor": 5
}
