{
 "cells": [
  {
   "cell_type": "code",
   "execution_count": 1,
   "id": "b5d06856-ed21-449c-bacd-c753639bebf6",
   "metadata": {},
   "outputs": [
    {
     "name": "stdout",
     "output_type": "stream",
     "text": [
      " ::: Reloaded <module 'expando' from '/home/magic/wholesomegarden/xo-core/expando.py'> ::: at  1661754334.1060724\n",
      "xo = None\n"
     ]
    }
   ],
   "source": [
    "# from xo import *\n",
    "import json\n",
    "import time\n",
    "import xo\n",
    "from IPython import get_ipython\n",
    "# ipython = get_ipython()\n",
    "\n",
    "# ipython.\n",
    "# dreload(xo)\n",
    "# xo.reload(xo)\n",
    "# xo.reload()\n",
    "# xo = xo.xo\n",
    "xo = xo.Expando()\n",
    "# xo = xo._Expando()\n",
    "\n",
    "\n",
    "xo.show()\n",
    "# import xo ; xo = xo.ok()\n",
    "# import xo ; xo = xo.ok()"
   ]
  },
  {
   "cell_type": "code",
   "execution_count": 2,
   "id": "baacd400",
   "metadata": {},
   "outputs": [
    {
     "name": "stdout",
     "output_type": "stream",
     "text": [
      " ::: Subscribing to fullname\n",
      " @ @ @ @ @ @ NICE!!!!! YEA\n",
      "____________________________\n",
      "keys ['name.first', 'name.last.nickname', 'name.last']\n",
      " ::: Subscribing to first\n",
      " ::: Subscribing to nickname\n",
      " ::: Subscribing to last\n",
      " @ @ @ @ @ @ NICE!!!!! tami d. po bar\n",
      "____________________________\n",
      "xo = None\n",
      "    name = None\n",
      "        first = 'tami'\n",
      "        last = 'bar'\n",
      "            nickname = 'd. po'\n",
      "    fullname = 'tami d. po bar'\n",
      "        formula = <function <lambda> at 0x7f664957fd30>\n",
      "    nice = <function <lambda> at 0x7f664957fca0>\n",
      " @ @ @ @ @ @ NICE!!!!! ! d. po bar\n",
      " @ @ @ @ @ @ NICE!!!!! ! !! bar\n",
      " @ @ @ @ @ @ NICE!!!!! ! !! !!!\n"
     ]
    }
   ],
   "source": [
    "xo.name.first = \"tami\"\n",
    "xo.name.last.nickname = \"d. po\"\n",
    "xo.name.last = \"bar\"\n",
    "xo.fullname @= xo.nice\n",
    "xo.nice = lambda x: print(\" @ @ @ @ @ @ NICE!!!!! \"+str(x))\n",
    "xo.fullname = \"YEA\"\n",
    "print(\"____________________________\")\n",
    "# time.sleep(2)\n",
    "xo.fullname <<= lambda: f\"{xo.name.first} {xo.name.last.nickname} {xo.name.last}\"\n",
    "print(\"____________________________\")\n",
    "xo.show()\n",
    "xo.name.first = \"!\"\n",
    "xo.name.last.nickname = \"!!\"\n",
    "xo.name.last = \"!!!\"\n"
   ]
  },
  {
   "cell_type": "code",
   "execution_count": 4,
   "id": "2ba02a99",
   "metadata": {},
   "outputs": [
    {
     "name": "stdout",
     "output_type": "stream",
     "text": [
      " ::: Subscribing to input\n",
      "simpleAction! hello\n",
      "simpleAction! hello\n",
      "simpleAction! some more data\n",
      "simpleAction! some more data\n",
      "<lambda>\n",
      "input = 'some more data'\n",
      "\n",
      "input = 'some more data'\n",
      "\n"
     ]
    },
    {
     "data": {
      "text/plain": [
       "{'<lambda>': <function __main__.<lambda>(x)>,\n",
       " 'simpleAction': <function __main__.simpleAction(x)>,\n",
       " <bound method Expando.__name__ of {xobject 'xo.input': 'some more data' ::: children(0)}>: {xobject 'xo.input': 'some more data' ::: children(0)}}"
      ]
     },
     "execution_count": 4,
     "metadata": {},
     "output_type": "execute_result"
    }
   ],
   "source": [
    "def simpleAction(x):\n",
    "    print(\"simpleAction!\",x)\n",
    "    # return x\n",
    "\n",
    "xo.input @= simpleAction\n",
    "xo.input = \"hello\"\n",
    "xo.input = \"some more data\"\n",
    "# x = lambda x: \"hello\"\n",
    "\n",
    "print(x.__name__)\n",
    "dict([(t.__name__, t) for t in [x,simpleAction,xo.input]])\n"
   ]
  },
  {
   "cell_type": "markdown",
   "id": "ab97ff65",
   "metadata": {},
   "source": [
    "TODO: make hashable, make _val=stack() check if object is _subscribers"
   ]
  },
  {
   "cell_type": "code",
   "execution_count": null,
   "id": "e66c24f7",
   "metadata": {},
   "outputs": [],
   "source": []
  }
 ],
 "metadata": {
  "kernelspec": {
   "display_name": "Python 3.8.12 64-bit",
   "language": "python",
   "name": "python3"
  },
  "language_info": {
   "codemirror_mode": {
    "name": "ipython",
    "version": 3
   },
   "file_extension": ".py",
   "mimetype": "text/x-python",
   "name": "python",
   "nbconvert_exporter": "python",
   "pygments_lexer": "ipython3",
   "version": "3.8.12"
  },
  "vscode": {
   "interpreter": {
    "hash": "0adcc2737ebf6a4a119f135174df96668767fca1ef1112612db5ecadf2b6d608"
   }
  }
 },
 "nbformat": 4,
 "nbformat_minor": 5
}
