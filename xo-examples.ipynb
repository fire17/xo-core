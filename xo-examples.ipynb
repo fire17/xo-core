{
 "cells": [
  {
   "cell_type": "code",
   "execution_count": 1,
   "id": "cb4a5864",
   "metadata": {},
   "outputs": [
    {
     "name": "stdout",
     "output_type": "stream",
     "text": [
      "xo = None\n"
     ]
    }
   ],
   "source": [
    "# Start using xo\n",
    "from xo import *\n",
    "# OR\n",
    "# import xo\n",
    "# xo = xo.xo\n",
    "\n",
    "xo.show() # starts as None"
   ]
  },
  {
   "cell_type": "code",
   "execution_count": 2,
   "id": "7405d524",
   "metadata": {},
   "outputs": [],
   "source": [
    "# from IPython import get_ipython\n",
    "# ipython = get_ipython()\n",
    "\n",
    "# ipython.\n",
    "# dreload(xo)\n",
    "# xo.reload(xo)\n",
    "import json\n",
    "import time\n",
    "# xo.reload()\n",
    "# xo = xo.Expando()\n",
    "# xo = xo._Expando()\n",
    "\n",
    "\n",
    "# import xo ; xo = xo.ok()\n",
    "# import xo ; xo = xo.ok()\n"
   ]
  },
  {
   "cell_type": "code",
   "execution_count": 3,
   "id": "baacd400",
   "metadata": {},
   "outputs": [
    {
     "name": "stdout",
     "output_type": "stream",
     "text": [
      " ::: Subscribing to fullname\n",
      "keys ['name.first', 'name.last']\n",
      " ::: Subscribing to first\n",
      " ::: Subscribing to last\n",
      "################\n",
      " fullname: Ido Senesh \n",
      "################\n",
      "keys ['pet.age']\n",
      " ::: Subscribing to age\n",
      " ::: Subscribing to dogyears\n",
      "•••••••••••••••••••••••••••\n",
      "Ido Senesh's dog is called bambi and he is 3 (or 21 in dogyears) \n",
      "################\n",
      " fullname: Ido King \n",
      "################\n",
      "Ido King's dog is called bambi and he is 111 (or 777 in dogyears) \n",
      "•••••••••••••••••••••••••••\n",
      "xo = 'Ido'\n",
      "    name = None\n",
      "        first = 'Ido'\n",
      "        last = 'King'\n",
      "    showFullname = <function <lambda> at 0x7f7cdc06bc10>\n",
      "    fullname = 'Ido King'\n",
      "        formula = <function <lambda> at 0x7f7cdc25b700>\n",
      "    pet = None\n",
      "        name = 'bambi'\n",
      "        age = 111\n",
      "        dogyears = 777\n",
      "            formula = <function <lambda> at 0x7f7cdc00d040>\n",
      "____________________________\n",
      "################\n",
      " fullname: idris King \n",
      "################\n",
      "____________________________\n",
      "################\n",
      " fullname: idris yaz \n",
      "################\n",
      "\n"
     ]
    }
   ],
   "source": [
    "# Personal Data\n",
    "xo._setValue(\"Ido\")\n",
    "xo.name.first = \"Ido\"\n",
    "xo.name.last = \"Senesh\"\n",
    "\n",
    "# Subscribing to fullname changes, Function will display the full name\n",
    "xo.showFullname = lambda x: print(f\"Fullname Changed: {x}\")\n",
    "xo.fullname @= xo.showFullname\n",
    "\n",
    "# Formula for the full name : will be evaluated when children are modified\n",
    "xo.fullname <<= lambda: f\"{xo.name.first} {xo.name.last}\"\n",
    "\n",
    "# More declarations \n",
    "xo.pet.name = \"bambi\"\n",
    "xo.pet.age = 2\n",
    "xo.pet.dogyears <<= lambda: xo.pet.age * 7\n",
    "xo.pet.dogyears @= lambda dogyears: print(f\"{xo.fullname}'s dog is called {xo.pet.name} and he is {xo.pet.age} (or {xo.pet.dogyears} in dogyears) \")\n",
    "\n",
    "# Data Propagation \n",
    "print(\"•••••••••••••••••••••••••••\")\n",
    "xo.pet.age = 3\n",
    "xo.name.last = \"King\"\n",
    "xo.pet.age = 111\n",
    "print(\"•••••••••••••••••••••••••••\")\n",
    "xo.show()\n",
    "# xo.fullname <<= lambda: f\"{xo.name.first}, {xo.name.last}\"\n",
    "\n",
    "\n",
    "print(\"____________________________\")\n",
    "xo.name.first = \"idris\"\n",
    "print(\"____________________________\")\n",
    "xo.name.last = \"yaz\"\n",
    "print()\n",
    "# print(\"____________________________\")"
   ]
  },
  {
   "cell_type": "code",
   "execution_count": null,
   "id": "e7f53f5c",
   "metadata": {},
   "outputs": [],
   "source": []
  },
  {
   "cell_type": "code",
   "execution_count": 4,
   "id": "72825d1f",
   "metadata": {},
   "outputs": [
    {
     "ename": "SyntaxError",
     "evalue": "invalid syntax (1418386773.py, line 2)",
     "output_type": "error",
     "traceback": [
      "\u001b[0;36m  Input \u001b[0;32mIn [4]\u001b[0;36m\u001b[0m\n\u001b[0;31m    xo.\u001b[0m\n\u001b[0m       ^\u001b[0m\n\u001b[0;31mSyntaxError\u001b[0m\u001b[0;31m:\u001b[0m invalid syntax\n"
     ]
    }
   ],
   "source": [
    "xo.pet.age = 4\n",
    "xo."
   ]
  },
  {
   "cell_type": "code",
   "execution_count": null,
   "id": "2ba02a99",
   "metadata": {},
   "outputs": [],
   "source": [
    "def simpleAction(x):\n",
    "    print(\"simpleAction!\",x)\n",
    "    # return x\n",
    "\n",
    "xo.input @= simpleAction\n",
    "xo.input = \"hello\"\n",
    "xo.input = \"some more data\"\n",
    "\n",
    "\n",
    "\n",
    "# x = lambda x: \"hello\"\n",
    "# print(x.__name__)\n",
    "# dict([(t.__name__, t) for t in [x,simpleAction,xo.input]])\n"
   ]
  },
  {
   "cell_type": "markdown",
   "id": "ab97ff65",
   "metadata": {},
   "source": [
    "TODO: make hashable, make _val=stack() check if object is _subscribers"
   ]
  },
  {
   "cell_type": "code",
   "execution_count": null,
   "id": "e66c24f7",
   "metadata": {},
   "outputs": [],
   "source": []
  }
 ],
 "metadata": {
  "kernelspec": {
   "display_name": "Python 3.8.12 64-bit",
   "language": "python",
   "name": "python3"
  },
  "language_info": {
   "codemirror_mode": {
    "name": "ipython",
    "version": 3
   },
   "file_extension": ".py",
   "mimetype": "text/x-python",
   "name": "python",
   "nbconvert_exporter": "python",
   "pygments_lexer": "ipython3",
   "version": "3.8.12"
  },
  "vscode": {
   "interpreter": {
    "hash": "0adcc2737ebf6a4a119f135174df96668767fca1ef1112612db5ecadf2b6d608"
   }
  }
 },
 "nbformat": 4,
 "nbformat_minor": 5
}
