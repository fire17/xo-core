{
 "cells": [
  {
   "cell_type": "markdown",
   "id": "f8b0fe4f",
   "metadata": {},
   "source": [
    "# This will give examples on how to use xo..."
   ]
  },
  {
   "cell_type": "code",
   "execution_count": 1,
   "id": "cb4a5864",
   "metadata": {},
   "outputs": [
    {
     "name": "stdout",
     "output_type": "stream",
     "text": [
      ";;;;;;;;;;;;;::: () {}\n",
      "@@@@@@@@ {}\n",
      "xo = \n"
     ]
    }
   ],
   "source": [
    "# Start using xo\n",
    "from xo import *\n",
    "# OR\n",
    "# import xo\n",
    "# xo = xo.xo\n",
    "\n",
    "xo.show() # starts as None"
   ]
  },
  {
   "cell_type": "code",
   "execution_count": 2,
   "id": "7405d524",
   "metadata": {},
   "outputs": [],
   "source": [
    "# from IPython import get_ipython\n",
    "# ipython = get_ipython()\n",
    "\n",
    "# ipython.\n",
    "# dreload(xo)\n",
    "# xo.reload(xo)\n",
    "import json\n",
    "import time\n",
    "# xo.reload()\n",
    "# xo = xo.Expando()\n",
    "# xo = xo._Expando()\n",
    "\n",
    "\n",
    "# import xo ; xo = xo.ok()\n",
    "# import xo ; xo = xo.ok()\n"
   ]
  },
  {
   "cell_type": "code",
   "execution_count": 3,
   "id": "baacd400",
   "metadata": {},
   "outputs": [
    {
     "name": "stdout",
     "output_type": "stream",
     "text": [
      ";;;;;;;;;;;;;::: () {}\n",
      "@@@@@@@@ {}\n",
      "........\n",
      ";;;;;;;;;;;;;::: () {}\n",
      "@@@@@@@@ {}\n",
      "........\n",
      ";;;;;;;;;;;;;::: () {}\n",
      "@@@@@@@@ {}\n",
      "........\n",
      ";;;;;;;;;;;;;::: () {}\n",
      "@@@@@@@@ {}\n",
      ";;;;;;;;;;;;;::: () {}\n",
      "@@@@@@@@ {}\n",
      " ::: Subscribing to fullname\n",
      "........\n",
      ";;;;;;;;;;;;;::: () {}\n",
      "@@@@@@@@ {}\n",
      "keys ['name.first', 'name.last']\n",
      "FFFFFFFFFFFFFFF\n",
      "FFFFFFFFFFFFFFF\n",
      "FFFFFFFFFFFFFFF\n",
      "{'value': 'Ido', 'name': {'first': 'Ido', 'last': 'Senesh'}, 'showFullname': <function <lambda> at 0x7ff3be06bdc0>, 'fullname': {'formula': <function <lambda> at 0x7ff3be06be50>}} xo\n",
      "FFFFFFFFFFFFFFF\n",
      "FFFFFFFFFFFFFFF\n",
      "FFFFFFFFFFFFFFF\n",
      " ::: Subscribing to first\n",
      "FFFFFFFFFFFFFFF\n",
      "FFFFFFFFFFFFFFF\n",
      "FFFFFFFFFFFFFFF\n",
      "{'value': 'Ido', 'name': {'first': 'Ido', 'last': 'Senesh'}, 'showFullname': <function <lambda> at 0x7ff3be06bdc0>, 'fullname': {'formula': <function <lambda> at 0x7ff3be06be50>}} xo\n",
      "FFFFFFFFFFFFFFF\n",
      "FFFFFFFFFFFFFFF\n",
      "FFFFFFFFFFFFFFF\n",
      " ::: Subscribing to last\n",
      "OOOOOOOOOOOOOOOOOOOOOOOOOOOOOOOOOOOOOO Ido Senesh\n",
      "OOOOOOOOOOOOOOOOOOOOOOOOOOOOOOOOOOOOOO Ido Senesh\n",
      "OOOOOOOOOOOOOOOOOOOOOOOOOOOOOOOOOOOOOO Ido Senesh\n",
      "OOOOOOOOOOOOOOOOOOOOOOOOOOOOOOOOOOOOOO Ido Senesh\n",
      "Fullname Changed: {'formula': <function <lambda> at 0x7ff3be06be50>, 'value': 'Ido Senesh'}\n",
      ";;;;;;;;;;;;;::: () {}\n",
      "@@@@@@@@ {}\n",
      "........\n",
      ";;;;;;;;;;;;;::: () {}\n",
      "@@@@@@@@ {}\n",
      "........\n",
      ";;;;;;;;;;;;;::: () {}\n",
      "@@@@@@@@ {}\n",
      ";;;;;;;;;;;;;::: () {}\n",
      "@@@@@@@@ {}\n",
      "........\n",
      ";;;;;;;;;;;;;::: () {}\n",
      "@@@@@@@@ {}\n",
      "keys ['pet.age']\n",
      "FFFFFFFFFFFFFFF\n",
      "FFFFFFFFFFFFFFF\n",
      "FFFFFFFFFFFFFFF\n",
      "{'value': 'Ido', 'name': {'first': 'Ido', 'last': 'Senesh'}, 'showFullname': <function <lambda> at 0x7ff3be06bdc0>, 'fullname': {'formula': <function <lambda> at 0x7ff3be06be50>, 'value': 'Ido Senesh'}, 'pet': {'name': 'Bambi', 'age': 2, 'dogyears': {'formula': <function <lambda> at 0x7ff3be7d80d0>}}} xo\n",
      "FFFFFFFFFFFFFFF\n",
      "FFFFFFFFFFFFFFF\n",
      "FFFFFFFFFFFFFFF\n",
      " ::: Subscribing to age\n",
      "OOOOOOOOOOOOOOOOOOOOOOOOOOOOOOOOOOOOOO 14\n",
      "OOOOOOOOOOOOOOOOOOOOOOOOOOOOOOOOOOOOOO 14\n",
      "OOOOOOOOOOOOOOOOOOOOOOOOOOOOOOOOOOOOOO 14\n",
      "OOOOOOOOOOOOOOOOOOOOOOOOOOOOOOOOOOOOOO 14\n",
      " ::: Subscribing to dogyears\n",
      "•••••••••••••••••••••••••••\n",
      "OOOOOOOOOOOOOOOOOOOOOOOOOOOOOOOOOOOOOO 21\n",
      "OOOOOOOOOOOOOOOOOOOOOOOOOOOOOOOOOOOOOO 21\n",
      "OOOOOOOOOOOOOOOOOOOOOOOOOOOOOOOOOOOOOO 21\n",
      "OOOOOOOOOOOOOOOOOOOOOOOOOOOOOOOOOOOOOO 21\n",
      "{'formula': <function <lambda> at 0x7ff3be06be50>, 'value': 'Ido Senesh'}'s dog is called Bambi and he is 3 (or {'formula': <function <lambda> at 0x7ff3be7d80d0>, 'value': 21} in dogyears) \n",
      "OOOOOOOOOOOOOOOOOOOOOOOOOOOOOOOOOOOOOO Ido King\n",
      "OOOOOOOOOOOOOOOOOOOOOOOOOOOOOOOOOOOOOO Ido King\n",
      "OOOOOOOOOOOOOOOOOOOOOOOOOOOOOOOOOOOOOO Ido King\n",
      "OOOOOOOOOOOOOOOOOOOOOOOOOOOOOOOOOOOOOO Ido King\n",
      "Fullname Changed: {'formula': <function <lambda> at 0x7ff3be06be50>, 'value': 'Ido King'}\n",
      "OOOOOOOOOOOOOOOOOOOOOOOOOOOOOOOOOOOOOO 777\n",
      "OOOOOOOOOOOOOOOOOOOOOOOOOOOOOOOOOOOOOO 777\n",
      "OOOOOOOOOOOOOOOOOOOOOOOOOOOOOOOOOOOOOO 777\n",
      "OOOOOOOOOOOOOOOOOOOOOOOOOOOOOOOOOOOOOO 777\n",
      "{'formula': <function <lambda> at 0x7ff3be06be50>, 'value': 'Ido King'}'s dog is called Bambi and he is 111 (or {'formula': <function <lambda> at 0x7ff3be7d80d0>, 'value': 777} in dogyears) \n",
      "•••••••••••••••••••••••••••\n",
      "xo = 'Ido'\n",
      "    name = \n",
      "        first = 'Ido'\n",
      "        last = 'King'\n",
      "    showFullname = <function <lambda> at 0x7ff3be06bdc0>\n",
      "    fullname = 'Ido King'\n",
      "        formula = <function <lambda> at 0x7ff3be06be50>\n",
      "    pet = \n",
      "        name = 'Bambi'\n",
      "        age = 111\n",
      "        dogyears = 777\n",
      "            formula = <function <lambda> at 0x7ff3be7d80d0>\n",
      "____________________________\n",
      "OOOOOOOOOOOOOOOOOOOOOOOOOOOOOOOOOOOOOO idris King\n",
      "OOOOOOOOOOOOOOOOOOOOOOOOOOOOOOOOOOOOOO idris King\n",
      "OOOOOOOOOOOOOOOOOOOOOOOOOOOOOOOOOOOOOO idris King\n",
      "OOOOOOOOOOOOOOOOOOOOOOOOOOOOOOOOOOOOOO idris King\n",
      "Fullname Changed: {'formula': <function <lambda> at 0x7ff3be06be50>, 'value': 'idris King'}\n",
      "____________________________\n",
      "OOOOOOOOOOOOOOOOOOOOOOOOOOOOOOOOOOOOOO idris yaz\n",
      "OOOOOOOOOOOOOOOOOOOOOOOOOOOOOOOOOOOOOO idris yaz\n",
      "OOOOOOOOOOOOOOOOOOOOOOOOOOOOOOOOOOOOOO idris yaz\n",
      "OOOOOOOOOOOOOOOOOOOOOOOOOOOOOOOOOOOOOO idris yaz\n",
      "Fullname Changed: {'formula': <function <lambda> at 0x7ff3be06be50>, 'value': 'idris yaz'}\n",
      "\n"
     ]
    }
   ],
   "source": [
    "# Personal Data\n",
    "xo._setValue(\"Ido\")\n",
    "xo.name.first = \"Ido\"\n",
    "xo.name.last = \"Senesh\"\n",
    "\n",
    "# Subscribing to fullname changes, Function will display the full name\n",
    "xo.showFullname = lambda x=\"Yoooooooooooooo\": print(f\"Fullname Changed: {xo.fullname}\")\n",
    "xo.fullname @= xo.showFullname\n",
    "\n",
    "# Formula for the full name : will be evaluated when children are modified\n",
    "xo.fullname <<= lambda: f\"{xo.name.first} {xo.name.last}\"\n",
    "\n",
    "# More declarations \n",
    "xo.pet.name = \"Bambi\"\n",
    "xo.pet.age = 2\n",
    "xo.pet.dogyears <<= lambda: xo.pet.age * 7\n",
    "xo.pet.dogyears @= lambda dogyears: print(f\"{xo.fullname}'s dog is called {xo.pet.name} and he is {xo.pet.age} (or {xo.pet.dogyears} in dogyears) \")\n",
    "\n",
    "# Data Propagation \n",
    "print(\"•••••••••••••••••••••••••••\")\n",
    "xo.pet.age = 3\n",
    "xo.name.last = \"King\"\n",
    "xo.pet.age = 111\n",
    "print(\"•••••••••••••••••••••••••••\")\n",
    "xo.show()\n",
    "# xo.fullname <<= lambda: f\"{xo.name.first}, {xo.name.last}\"\n",
    "\n",
    "\n",
    "print(\"____________________________\")\n",
    "xo.name.first = \"idris\"\n",
    "print(\"____________________________\")\n",
    "xo.name.last = \"yaz\"\n",
    "print()\n",
    "# print(\"____________________________\")"
   ]
  },
  {
   "cell_type": "code",
   "execution_count": null,
   "id": "e7f53f5c",
   "metadata": {},
   "outputs": [],
   "source": []
  },
  {
   "cell_type": "code",
   "execution_count": null,
   "id": "72825d1f",
   "metadata": {},
   "outputs": [],
   "source": []
  },
  {
   "cell_type": "code",
   "execution_count": 4,
   "id": "2ba02a99",
   "metadata": {},
   "outputs": [
    {
     "name": "stdout",
     "output_type": "stream",
     "text": [
      ";;;;;;;;;;;;;::: () {}\n",
      "@@@@@@@@ {}\n",
      " ::: Subscribing to input\n",
      "simpleAction! hello\n",
      "simpleAction! some more data\n"
     ]
    }
   ],
   "source": [
    "def simpleAction(x):\n",
    "    print(\"simpleAction!\",x)\n",
    "    # return x\n",
    "\n",
    "xo.input @= simpleAction\n",
    "xo.input = \"hello\"\n",
    "xo.input = \"some more data\"\n",
    "\n",
    "\n",
    "\n",
    "# x = lambda x: \"hello\"\n",
    "# print(x.__name__)\n",
    "# dict([(t.__name__, t) for t in [x,simpleAction,xo.input]])\n"
   ]
  },
  {
   "cell_type": "markdown",
   "id": "ab97ff65",
   "metadata": {},
   "source": [
    "TODO: make hashable, make _val=stack() check if object is _subscribers"
   ]
  },
  {
   "cell_type": "code",
   "execution_count": 5,
   "id": "5cac86d9",
   "metadata": {},
   "outputs": [
    {
     "name": "stdout",
     "output_type": "stream",
     "text": [
      ";;;;;;;;;;;;;::: () {}\n",
      "@@@@@@@@ {}\n",
      "........\n",
      ";;;;;;;;;;;;;::: () {}\n",
      "@@@@@@@@ {}\n",
      ";;;;;;;;;;;;;::: () {}\n",
      "@@@@@@@@ {}\n",
      ";;;;;;;;;;;;;::: () {}\n",
      "@@@@@@@@ {}\n",
      ";;;;;;;;;;;;;::: () {}\n",
      "@@@@@@@@ {}\n",
      "xo/name\n",
      "xo/name/first\n",
      "xo/name/last\n",
      "xo/showFullname\n",
      "xo/fullname\n",
      "xo/fullname/formula\n",
      "xo/pet\n",
      "xo/pet/name\n",
      "xo/pet/age\n",
      "xo/pet/dogyears\n",
      "xo/pet/dogyears/formula\n",
      "xo/input\n",
      "xo/c\n",
      "xo/c/a\n",
      "xo/a\n",
      "xo/a/b\n",
      "xo/a/b/c\n"
     ]
    }
   ],
   "source": [
    "\n",
    "xo.c.a = 1\n",
    "# xo.b.c = 1\n",
    "# xo.c.d.e = 1\n",
    "# xo.d.e.f.g = 1\n",
    "# xo.c.d.e.end = 1\n",
    "# xo.b.c.d.e.f = 1\n",
    "\n",
    "xo.a.b.c\n",
    "\n",
    "xo.tree()\n",
    "\n",
    "for a in xo.tree():\n",
    "    print(a._id,)"
   ]
  },
  {
   "cell_type": "code",
   "execution_count": 6,
   "id": "e66c24f7",
   "metadata": {},
   "outputs": [
    {
     "name": "stdout",
     "output_type": "stream",
     "text": [
      "{'formula': <function <lambda> at 0x7ff3be7d80d0>, 'value': 777} {'formula': <function <lambda> at 0x7ff3be06be50>, 'value': 'idris yaz'}\n",
      "\n",
      "{'value': 'Ido', 'name': {'first': 'idris', 'last': 'yaz'}, 'showFullname': <function <lambda> at 0x7ff3be06bdc0>, 'fullname': {'formula': <function <lambda> at 0x7ff3be06be50>, 'value': 'idris yaz'}, 'pet': {'name': 'Bambi', 'age': 111, 'dogyears': {'formula': <function <lambda> at 0x7ff3be7d80d0>, 'value': 777}, 'value': 'dog'}, 'input': 'some more data', 'c': {'a': 1}, 'a': {'b': {'c': {}}}}\n",
      "\n",
      "{'name': 'Bambi', 'age': 111, 'dogyears': {'formula': <function <lambda> at 0x7ff3be7d80d0>, 'value': 777}, 'value': 'dog'}\n",
      "{'name': 'Bambi', 'age': 111, 'dogyears': {'formula': <function <lambda> at 0x7ff3be7d80d0>, 'value': 777}, 'value': 'dog'}\n",
      "{'name': 'Bambi', 'age': 111, 'dogyears': {'formula': <function <lambda> at 0x7ff3be7d80d0>, 'value': 777}, 'value': 'dog'}\n",
      "xo/pet :::x::: () ::: {}\n",
      "dog\n"
     ]
    }
   ],
   "source": [
    "# xo.__dict__.keys()\n",
    "# xo.show()\n",
    "# print(\".........\")\n",
    "xo.pet = \"dog\"\n",
    "\n",
    "print(xo.pet.dogyears, xo.fullname)\n",
    "print()\n",
    "print(dict(xo))\n",
    "print()\n",
    "del xo[\"value\"]\n",
    "del xo[\"name\"]\n",
    "print(xo.pet)\n",
    "print(dict(xo.pet))\n",
    "print(xo.pet)\n",
    "print(xo.pet())\n"
   ]
  },
  {
   "cell_type": "code",
   "execution_count": 7,
   "id": "02c9a505",
   "metadata": {},
   "outputs": [
    {
     "name": "stdout",
     "output_type": "stream",
     "text": [
      ";;;;;;;;;;;;;::: () {}\n",
      "@@@@@@@@ {}\n",
      ";;;;;;;;;;;;;::: () {}\n",
      "@@@@@@@@ {}\n",
      "xo/n/n :::x::: ({'result': True, 'id': 'Awesome'},) ::: {}\n",
      "{} ({'result': True, 'id': 'Awesome'},)\n",
      "@@@@@@\n",
      "{'result': True, 'id': 'Awesome'}\n",
      "@@@@@@@@\n",
      "............. xo/n/n \n",
      ";;;;;;;;;;;;;::: () {}\n",
      "@@@@@@@@ {'result': True, 'id': 'Awesome'}\n",
      "NNNNNNDDDDDDDD result <class 'expando.Expando'>\n",
      "AAAAAAAA\n",
      "BBBBBBBB True True\n",
      ";;;;;;;;;;;;;::: () {}\n",
      "@@@@@@@@ {}\n",
      "fffffffffaaa\n",
      "NNNNNNDDDDDDDD id <class 'expando.Expando'>\n",
      "AAAAAAAA\n",
      "BBBBBBBB Awesome Awesome\n",
      ";;;;;;;;;;;;;::: () {}\n",
      "@@@@@@@@ {}\n",
      "fffffffffaaa\n",
      "tttttttx None <class 'NoneType'>\n",
      "@@@@@@@@@@@@@@@@@@@@\n",
      "True\n",
      "@@@@@@@@@@@@@@@@@@@@\n",
      "xo/n/n :::x::: ({'result': False, 'new': 'nice'},) ::: {}\n",
      "xxxxxx {'result': False, 'new': 'nice'} {}\n",
      "------- {'result': True, 'id': 'Awesome'} {'result': False, 'new': 'nice'}\n",
      ";;;;;;;;;;;;;::: () {}\n",
      "@@@@@@@@ {'result': False, 'new': 'nice'}\n",
      "NNNNNNDDDDDDDD result <class 'expando.Expando'>\n",
      "AAAAAAAA\n",
      "fffffffffaaa\n",
      "NNNNNNDDDDDDDD new <class 'expando.Expando'>\n",
      ";;;;;;;;;;;;;::: () {}\n",
      "@@@@@@@@ {}\n",
      "fffffffff <class 'expando.Expando'>\n",
      "@@@@@@@@@@@@@@@@@@@@\n",
      "{'n': {'result': True, 'id': 'Awesome', 'new': 'nice'}}\n"
     ]
    }
   ],
   "source": [
    "xo.n.n({\"result\": True, \"id\": \"Awesome\"})\n",
    "print(\"@@@@@@@@@@@@@@@@@@@@\")\n",
    "print(xo.n.n.result)\n",
    "print(\"@@@@@@@@@@@@@@@@@@@@\")\n",
    "xo.n.n({\"result\": False, \"new\": \"nice\"})\n",
    "print(\"@@@@@@@@@@@@@@@@@@@@\")\n",
    "print(xo.n)\n"
   ]
  },
  {
   "cell_type": "code",
   "execution_count": 8,
   "id": "9ce2d6a5",
   "metadata": {},
   "outputs": [
    {
     "name": "stdout",
     "output_type": "stream",
     "text": [
      "\n",
      "OOOOOOOOOOOOOOOOOOOOOOOOOOOOOOOOOOOOOO 777777\n",
      "OOOOOOOOOOOOOOOOOOOOOOOOOOOOOOOOOOOOOO 777777\n",
      "OOOOOOOOOOOOOOOOOOOOOOOOOOOOOOOOOOOOOO 777777\n",
      "OOOOOOOOOOOOOOOOOOOOOOOOOOOOOOOOOOOOOO 777777\n",
      "{'formula': <function <lambda> at 0x7ff3be06be50>, 'value': 'idris yaz'}'s dog is called Bambi and he is 111111 (or {'formula': <function <lambda> at 0x7ff3be7d80d0>, 'value': 777777} in dogyears) \n",
      "xo = \n",
      "    showFullname = <function <lambda> at 0x7ff3be06bdc0>\n",
      "    fullname = 'idris yaz'\n",
      "        formula = <function <lambda> at 0x7ff3be06be50>\n",
      "    pet = 'dog'\n",
      "        name = 'Bambi'\n",
      "        age = 111111\n",
      "        dogyears = 777777\n",
      "            formula = <function <lambda> at 0x7ff3be7d80d0>\n",
      "    input = 'some more data'\n",
      "    c = \n",
      "        a = 1\n",
      "    a = \n",
      "        b = \n",
      "            c = \n",
      "    n = \n",
      "        n = \n",
      "            result = True\n",
      "            id = 'Awesome'\n",
      "            new = 'nice'\n",
      "\n",
      "xxxx {'showFullname': <function <lambda> at 0x7ff3be06bdc0>, 'fullname': {'formula': <function <lambda> at 0x7ff3be06be50>, 'value': 'idris yaz'}, 'pet': {'name': 'Bambi', 'age': 111111, 'dogyears': {'formula': <function <lambda> at 0x7ff3be7d80d0>, 'value': 777777}, 'value': 'dog'}, 'input': 'some more data', 'c': {'a': 1}, 'a': {'b': {'c': {}}}, 'n': {'n': {'result': True, 'id': 'Awesome', 'new': 'nice'}}}\n"
     ]
    }
   ],
   "source": [
    "\n",
    "print()\n",
    "xo.pet.age = 111111\n",
    "xo.show()\n",
    "print()\n",
    "# print(\"xxxx\",xo.pet)\n",
    "print(\"xxxx\",dict(xo))"
   ]
  },
  {
   "cell_type": "code",
   "execution_count": 9,
   "id": "6242b8eb",
   "metadata": {},
   "outputs": [
    {
     "name": "stdout",
     "output_type": "stream",
     "text": [
      "........\n",
      ";;;;;;;;;;;;;::: () {}\n",
      "@@@@@@@@ {}\n",
      "xo = \n",
      "    showFullname = <function <lambda> at 0x7ff3be06bdc0>\n",
      "    fullname = 'idris yaz'\n",
      "        formula = <function <lambda> at 0x7ff3be06be50>\n",
      "    pet = 'dog'\n",
      "        name = 'Bambi'\n",
      "        age = 111111\n",
      "        dogyears = 777777\n",
      "            formula = <function <lambda> at 0x7ff3be7d80d0>\n",
      "    input = 'some more data'\n",
      "    c = \n",
      "        a = 1\n",
      "    a = \n",
      "        b = \n",
      "            c = \n",
      "    n = \n",
      "        n = \n",
      "            result = True\n",
      "            id = 'Awesome'\n",
      "            new = 'nice'\n",
      "            n = 'well'\n",
      "odict_keys(['result', 'id', 'new', 'n'])\n"
     ]
    }
   ],
   "source": [
    "xo.n.n.n = \"well\"\n",
    "xo.show()\n",
    "print(str(xo.n.n.keys()))"
   ]
  },
  {
   "cell_type": "code",
   "execution_count": 10,
   "id": "d60b5b93",
   "metadata": {},
   "outputs": [
    {
     "name": "stdout",
     "output_type": "stream",
     "text": [
      "####################\n",
      "####################\n",
      "####################\n",
      "####################\n",
      "#################### {'showFullname': <function <lambda> at 0x7ff3be06bdc0>, 'fullname': {'formula': <function <lambda> at 0x7ff3be06be50>, 'value': 'idris yaz'}, 'pet': {'name': 'Bambi', 'age': 111111, 'dogyears': {'formula': <function <lambda> at 0x7ff3be7d80d0>, 'value': 777777}, 'value': 'dog'}, 'input': 'some more data', 'c': {'a': 1}, 'a': {'b': {'c': {}}}, 'n': {'n': {'result': True, 'id': 'Awesome', 'new': 'nice', 'n': 'well'}}}\n",
      "####################\n",
      "#################### {'showFullname': <function <lambda> at 0x7ff3be06bdc0>, 'fullname': {'formula': <function <lambda> at 0x7ff3be06be50>, 'value': 'idris yaz'}, 'pet': {'name': 'Bambi', 'age': 111111, 'dogyears': {'formula': <function <lambda> at 0x7ff3be7d80d0>, 'value': 777777}, 'value': 'dog'}, 'input': 'some more data', 'c': {'a': 1}, 'a': {'b': {'c': {}}}, 'n': {'n': {'result': True, 'id': 'Awesome', 'new': 'nice', 'n': 'well'}}}\n",
      "####################\n"
     ]
    },
    {
     "ename": "TypeError",
     "evalue": "__bool__() missing 1 required positional argument: 'other'",
     "output_type": "error",
     "traceback": [
      "\u001b[0;31m---------------------------------------------------------------------------\u001b[0m",
      "\u001b[0;31mTypeError\u001b[0m                                 Traceback (most recent call last)",
      "\u001b[1;32m/home/magic/wholesomegarden/xo-core/xo-examples.ipynb Cell 14\u001b[0m in \u001b[0;36m<cell line: 4>\u001b[0;34m()\u001b[0m\n\u001b[1;32m      <a href='vscode-notebook-cell:/home/magic/wholesomegarden/xo-core/xo-examples.ipynb#X16sZmlsZQ%3D%3D?line=0'>1</a>\u001b[0m \u001b[39mimport\u001b[39;00m \u001b[39mjson\u001b[39;00m\n\u001b[1;32m      <a href='vscode-notebook-cell:/home/magic/wholesomegarden/xo-core/xo-examples.ipynb#X16sZmlsZQ%3D%3D?line=1'>2</a>\u001b[0m \u001b[39m# print(json.dumps(xo))\u001b[39;00m\n\u001b[1;32m      <a href='vscode-notebook-cell:/home/magic/wholesomegarden/xo-core/xo-examples.ipynb#X16sZmlsZQ%3D%3D?line=2'>3</a>\u001b[0m \u001b[39m# json.dumps(dict(xo))\u001b[39;00m\n\u001b[0;32m----> <a href='vscode-notebook-cell:/home/magic/wholesomegarden/xo-core/xo-examples.ipynb#X16sZmlsZQ%3D%3D?line=3'>4</a>\u001b[0m \u001b[39mprint\u001b[39m(xo\u001b[39m.\u001b[39;49mtoJSON())\n",
      "File \u001b[0;32m~/wholesomegarden/xo-core/expando.py:1505\u001b[0m, in \u001b[0;36mExpando.toJSON\u001b[0;34m(self)\u001b[0m\n\u001b[1;32m   1503\u001b[0m \u001b[39mprint\u001b[39m(\u001b[39m\"\u001b[39m\u001b[39m####################\u001b[39m\u001b[39m\"\u001b[39m)\n\u001b[1;32m   1504\u001b[0m \u001b[39m# print(jsonD)\u001b[39;00m\n\u001b[0;32m-> 1505\u001b[0m \u001b[39mreturn\u001b[39;00m json\u001b[39m.\u001b[39;49mdumps(jsonD, default\u001b[39m=\u001b[39;49m\u001b[39mself\u001b[39;49m\u001b[39m.\u001b[39;49mdefault, indent\u001b[39m=\u001b[39;49m\u001b[39m4\u001b[39;49m)\n\u001b[1;32m   1506\u001b[0m \u001b[39m# return json.dumps(self, default=lambda *a,**kv: dict(self))\u001b[39;00m\n\u001b[1;32m   1507\u001b[0m \u001b[39m# print(json.dumps(self, indent=4, default=lambda x: x.__json__))\u001b[39;00m\n\u001b[1;32m   1508\u001b[0m \u001b[39mprint\u001b[39m(json\u001b[39m.\u001b[39mdumps(\u001b[39mself\u001b[39m\u001b[39m.\u001b[39m\u001b[39m__dict__\u001b[39m))\n",
      "File \u001b[0;32m/usr/local/lib/python3.8/json/__init__.py:234\u001b[0m, in \u001b[0;36mdumps\u001b[0;34m(obj, skipkeys, ensure_ascii, check_circular, allow_nan, cls, indent, separators, default, sort_keys, **kw)\u001b[0m\n\u001b[1;32m    232\u001b[0m \u001b[39mif\u001b[39;00m \u001b[39mcls\u001b[39m \u001b[39mis\u001b[39;00m \u001b[39mNone\u001b[39;00m:\n\u001b[1;32m    233\u001b[0m     \u001b[39mcls\u001b[39m \u001b[39m=\u001b[39m JSONEncoder\n\u001b[0;32m--> 234\u001b[0m \u001b[39mreturn\u001b[39;00m \u001b[39mcls\u001b[39;49m(\n\u001b[1;32m    235\u001b[0m     skipkeys\u001b[39m=\u001b[39;49mskipkeys, ensure_ascii\u001b[39m=\u001b[39;49mensure_ascii,\n\u001b[1;32m    236\u001b[0m     check_circular\u001b[39m=\u001b[39;49mcheck_circular, allow_nan\u001b[39m=\u001b[39;49mallow_nan, indent\u001b[39m=\u001b[39;49mindent,\n\u001b[1;32m    237\u001b[0m     separators\u001b[39m=\u001b[39;49mseparators, default\u001b[39m=\u001b[39;49mdefault, sort_keys\u001b[39m=\u001b[39;49msort_keys,\n\u001b[1;32m    238\u001b[0m     \u001b[39m*\u001b[39;49m\u001b[39m*\u001b[39;49mkw)\u001b[39m.\u001b[39;49mencode(obj)\n",
      "File \u001b[0;32m/usr/local/lib/python3.8/json/encoder.py:201\u001b[0m, in \u001b[0;36mJSONEncoder.encode\u001b[0;34m(self, o)\u001b[0m\n\u001b[1;32m    199\u001b[0m chunks \u001b[39m=\u001b[39m \u001b[39mself\u001b[39m\u001b[39m.\u001b[39miterencode(o, _one_shot\u001b[39m=\u001b[39m\u001b[39mTrue\u001b[39;00m)\n\u001b[1;32m    200\u001b[0m \u001b[39mif\u001b[39;00m \u001b[39mnot\u001b[39;00m \u001b[39misinstance\u001b[39m(chunks, (\u001b[39mlist\u001b[39m, \u001b[39mtuple\u001b[39m)):\n\u001b[0;32m--> 201\u001b[0m     chunks \u001b[39m=\u001b[39m \u001b[39mlist\u001b[39;49m(chunks)\n\u001b[1;32m    202\u001b[0m \u001b[39mreturn\u001b[39;00m \u001b[39m'\u001b[39m\u001b[39m'\u001b[39m\u001b[39m.\u001b[39mjoin(chunks)\n",
      "File \u001b[0;32m/usr/local/lib/python3.8/json/encoder.py:431\u001b[0m, in \u001b[0;36m_make_iterencode.<locals>._iterencode\u001b[0;34m(o, _current_indent_level)\u001b[0m\n\u001b[1;32m    429\u001b[0m     \u001b[39myield from\u001b[39;00m _iterencode_list(o, _current_indent_level)\n\u001b[1;32m    430\u001b[0m \u001b[39melif\u001b[39;00m \u001b[39misinstance\u001b[39m(o, \u001b[39mdict\u001b[39m):\n\u001b[0;32m--> 431\u001b[0m     \u001b[39myield from\u001b[39;00m _iterencode_dict(o, _current_indent_level)\n\u001b[1;32m    432\u001b[0m \u001b[39melse\u001b[39;00m:\n\u001b[1;32m    433\u001b[0m     \u001b[39mif\u001b[39;00m markers \u001b[39mis\u001b[39;00m \u001b[39mnot\u001b[39;00m \u001b[39mNone\u001b[39;00m:\n",
      "File \u001b[0;32m/usr/local/lib/python3.8/json/encoder.py:405\u001b[0m, in \u001b[0;36m_make_iterencode.<locals>._iterencode_dict\u001b[0;34m(dct, _current_indent_level)\u001b[0m\n\u001b[1;32m    403\u001b[0m         \u001b[39melse\u001b[39;00m:\n\u001b[1;32m    404\u001b[0m             chunks \u001b[39m=\u001b[39m _iterencode(value, _current_indent_level)\n\u001b[0;32m--> 405\u001b[0m         \u001b[39myield from\u001b[39;00m chunks\n\u001b[1;32m    406\u001b[0m \u001b[39mif\u001b[39;00m newline_indent \u001b[39mis\u001b[39;00m \u001b[39mnot\u001b[39;00m \u001b[39mNone\u001b[39;00m:\n\u001b[1;32m    407\u001b[0m     _current_indent_level \u001b[39m-\u001b[39m\u001b[39m=\u001b[39m \u001b[39m1\u001b[39m\n",
      "File \u001b[0;32m/usr/local/lib/python3.8/json/encoder.py:334\u001b[0m, in \u001b[0;36m_make_iterencode.<locals>._iterencode_dict\u001b[0;34m(dct, _current_indent_level)\u001b[0m\n\u001b[1;32m    333\u001b[0m \u001b[39mdef\u001b[39;00m \u001b[39m_iterencode_dict\u001b[39m(dct, _current_indent_level):\n\u001b[0;32m--> 334\u001b[0m     \u001b[39mif\u001b[39;00m \u001b[39mnot\u001b[39;00m dct:\n\u001b[1;32m    335\u001b[0m         \u001b[39myield\u001b[39;00m \u001b[39m'\u001b[39m\u001b[39m{}\u001b[39;00m\u001b[39m'\u001b[39m\n\u001b[1;32m    336\u001b[0m         \u001b[39mreturn\u001b[39;00m\n",
      "\u001b[0;31mTypeError\u001b[0m: __bool__() missing 1 required positional argument: 'other'"
     ]
    }
   ],
   "source": [
    "\n",
    "import json\n",
    "# print(json.dumps(xo))\n",
    "# json.dumps(dict(xo))\n",
    "print(xo.toJSON())\n"
   ]
  }
 ],
 "metadata": {
  "kernelspec": {
   "display_name": "Python 3.8.12 64-bit",
   "language": "python",
   "name": "python3"
  },
  "language_info": {
   "codemirror_mode": {
    "name": "ipython",
    "version": 3
   },
   "file_extension": ".py",
   "mimetype": "text/x-python",
   "name": "python",
   "nbconvert_exporter": "python",
   "pygments_lexer": "ipython3",
   "version": "3.8.12"
  },
  "vscode": {
   "interpreter": {
    "hash": "0adcc2737ebf6a4a119f135174df96668767fca1ef1112612db5ecadf2b6d608"
   }
  }
 },
 "nbformat": 4,
 "nbformat_minor": 5
}
