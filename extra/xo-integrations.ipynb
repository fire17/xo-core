{
 "cells": [
  {
   "cell_type": "markdown",
   "metadata": {},
   "source": [
    "### <center> xo-integrations\n",
    "### s\n"
   ]
  },
  {
   "cell_type": "code",
   "execution_count": 1,
   "metadata": {},
   "outputs": [],
   "source": [
    "######### REDIS\n",
    "\n",
    "\n",
    "# import redis\n",
    "# r = redis.Redis(host='0.0.0.0', port=6379, db=0)\n",
    "# pubsub = r.pubsub()\n",
    "\n",
    "# r.set('foo/a/b/c', 'bar')\n",
    "# print(r.get('foo/a/b/c'))\n",
    "# r.get\n"
   ]
  },
  {
   "cell_type": "code",
   "execution_count": 2,
   "metadata": {},
   "outputs": [],
   "source": [
    "# from xo import *\n",
    "\n",
    "# xo.a.b.c = lambda *a,**kw: print(a,kw)\n",
    "# xo.a.b.c(1)"
   ]
  },
  {
   "cell_type": "code",
   "execution_count": 3,
   "metadata": {},
   "outputs": [
    {
     "name": "stdout",
     "output_type": "stream",
     "text": [
      "_________________________________\n"
     ]
    },
    {
     "ename": "AttributeError",
     "evalue": "'str' object has no attribute '_id'",
     "output_type": "error",
     "traceback": [
      "\u001b[0;31m---------------------------------------------------------------------------\u001b[0m",
      "\u001b[0;31mAttributeError\u001b[0m                            Traceback (most recent call last)",
      "\u001b[1;32m/home/magic/wholesomegarden/xo-core/xo-integrations.ipynb Cell 4\u001b[0m in \u001b[0;36m<cell line: 94>\u001b[0;34m()\u001b[0m\n\u001b[1;32m     <a href='vscode-notebook-cell:/home/magic/wholesomegarden/xo-core/xo-integrations.ipynb#W3sZmlsZQ%3D%3D?line=91'>92</a>\u001b[0m \u001b[39mprint\u001b[39m(\u001b[39m\"\u001b[39m\u001b[39m_________________________________\u001b[39m\u001b[39m\"\u001b[39m)\n\u001b[1;32m     <a href='vscode-notebook-cell:/home/magic/wholesomegarden/xo-core/xo-integrations.ipynb#W3sZmlsZQ%3D%3D?line=92'>93</a>\u001b[0m \u001b[39m# print(\"change fooooooo:  \")\u001b[39;00m\n\u001b[0;32m---> <a href='vscode-notebook-cell:/home/magic/wholesomegarden/xo-core/xo-integrations.ipynb#W3sZmlsZQ%3D%3D?line=93'>94</a>\u001b[0m xo\u001b[39m.\u001b[39;49mredis\u001b[39m.\u001b[39;49ma\u001b[39m.\u001b[39;49mb\u001b[39m.\u001b[39;49mc(\u001b[39m\"\u001b[39;49m\u001b[39mFOOOOOOOOOOOO\u001b[39;49m\u001b[39m\"\u001b[39;49m)\n\u001b[1;32m     <a href='vscode-notebook-cell:/home/magic/wholesomegarden/xo-core/xo-integrations.ipynb#W3sZmlsZQ%3D%3D?line=94'>95</a>\u001b[0m xo\u001b[39m.\u001b[39mredis\u001b[39m.\u001b[39ma\u001b[39m.\u001b[39mb\u001b[39m.\u001b[39mc(\u001b[39m\"\u001b[39m\u001b[39mFOOOOOOOOOOOOX\u001b[39m\u001b[39m\"\u001b[39m)\n\u001b[1;32m     <a href='vscode-notebook-cell:/home/magic/wholesomegarden/xo-core/xo-integrations.ipynb#W3sZmlsZQ%3D%3D?line=95'>96</a>\u001b[0m xo\u001b[39m.\u001b[39mredis\u001b[39m.\u001b[39ma\u001b[39m.\u001b[39mb\u001b[39m.\u001b[39mc(\u001b[39m\"\u001b[39m\u001b[39mLUCKY\u001b[39m\u001b[39m\"\u001b[39m)\n",
      "File \u001b[0;32m~/wholesomegarden/xo-core/expando.py:1001\u001b[0m, in \u001b[0;36mExpando.__call__\u001b[0;34m(self, *args, **kwargs)\u001b[0m\n\u001b[1;32m    996\u001b[0m \u001b[39mdef\u001b[39;00m \u001b[39m__call__\u001b[39m(\u001b[39mself\u001b[39m, \u001b[39m*\u001b[39margs, \u001b[39m*\u001b[39m\u001b[39m*\u001b[39mkwargs):\n\u001b[1;32m    997\u001b[0m \t\u001b[39m# print(Expando.__call__ in self._behaviors)\u001b[39;00m\n\u001b[1;32m    998\u001b[0m \t\u001b[39m# print(\"CCCCCCCCCCCCC\",self,args,kwargs, self._behaviors)\u001b[39;00m\n\u001b[1;32m   1000\u001b[0m \t\u001b[39mif\u001b[39;00m \u001b[39m\"\u001b[39m\u001b[39m_skip_overload\u001b[39m\u001b[39m\"\u001b[39m \u001b[39mnot\u001b[39;00m \u001b[39min\u001b[39;00m kwargs \u001b[39mor\u001b[39;00m kwargs[\u001b[39m\"\u001b[39m\u001b[39m_skip_overload\u001b[39m\u001b[39m\"\u001b[39m] \u001b[39m==\u001b[39m \u001b[39mFalse\u001b[39;00m:\n\u001b[0;32m-> 1001\u001b[0m \t\t\u001b[39mreturn\u001b[39;00m \u001b[39mself\u001b[39;49m\u001b[39m.\u001b[39;49m_behaviors[Expando\u001b[39m.\u001b[39;49m\u001b[39m__call__\u001b[39;49m](\u001b[39m*\u001b[39;49margs, \u001b[39m*\u001b[39;49m\u001b[39m*\u001b[39;49mkwargs) \\\n\u001b[1;32m   1002\u001b[0m \t\t\t\u001b[39mif\u001b[39;00m Expando\u001b[39m.\u001b[39m\u001b[39m__call__\u001b[39m \u001b[39min\u001b[39;00m \u001b[39mself\u001b[39m\u001b[39m.\u001b[39m_behaviors \\\n\u001b[1;32m   1003\u001b[0m \t\t\t\t\u001b[39melse\u001b[39;00m \u001b[39mself\u001b[39m\u001b[39m.\u001b[39m\u001b[39m__call__\u001b[39m(_skip_overload \u001b[39m=\u001b[39m \u001b[39mTrue\u001b[39;00m,\u001b[39m*\u001b[39margs, \u001b[39m*\u001b[39m\u001b[39m*\u001b[39mkwargs);\n\u001b[1;32m   1005\u001b[0m \tkwargs\u001b[39m.\u001b[39mpop(\u001b[39m\"\u001b[39m\u001b[39m_skip_overload\u001b[39m\u001b[39m\"\u001b[39m) \u001b[39mif\u001b[39;00m \u001b[39m\"\u001b[39m\u001b[39m_skip_overload\u001b[39m\u001b[39m\"\u001b[39m \u001b[39min\u001b[39;00m kwargs \u001b[39melse\u001b[39;00m \u001b[39m0\u001b[39m\n\u001b[1;32m   1006\u001b[0m \t\u001b[39m# for a in vars:\u001b[39;00m\n\u001b[1;32m   1007\u001b[0m \t\u001b[39m# \tprint(type(a),\"AAAAAAAAAAAAAAA,\", a)\u001b[39;00m\n\u001b[1;32m   1008\u001b[0m \t\u001b[39m# for a in kwargs:\u001b[39;00m\n\u001b[1;32m   1009\u001b[0m \t\u001b[39m# \tprint(type(kwargs),type(a),\"KKKKKKKKK,\", a,\"=\", kwargs[a])\u001b[39;00m\n\u001b[1;32m   1010\u001b[0m \t\u001b[39m# print(type(vars),type(*vars),\"xxxxxxxxAAAAAAAAAAAAAAA,\", vars)\u001b[39;00m\n",
      "\u001b[1;32m/home/magic/wholesomegarden/xo-core/xo-integrations.ipynb Cell 4\u001b[0m in \u001b[0;36mredisCall\u001b[0;34m(self, *args, **kwargs)\u001b[0m\n\u001b[1;32m     <a href='vscode-notebook-cell:/home/magic/wholesomegarden/xo-core/xo-integrations.ipynb#W3sZmlsZQ%3D%3D?line=49'>50</a>\u001b[0m \u001b[39mdef\u001b[39;00m \u001b[39mredisCall\u001b[39m(\u001b[39mself\u001b[39m, \u001b[39m*\u001b[39margs, \u001b[39m*\u001b[39m\u001b[39m*\u001b[39mkwargs):\n\u001b[1;32m     <a href='vscode-notebook-cell:/home/magic/wholesomegarden/xo-core/xo-integrations.ipynb#W3sZmlsZQ%3D%3D?line=50'>51</a>\u001b[0m     \u001b[39m# print(\"YYYYYYYYYYYYEEEEEEEEESSSSSSSSSSSCCC\",self._id, args, kwargs)\u001b[39;00m\n\u001b[0;32m---> <a href='vscode-notebook-cell:/home/magic/wholesomegarden/xo-core/xo-integrations.ipynb#W3sZmlsZQ%3D%3D?line=51'>52</a>\u001b[0m     \u001b[39mprint\u001b[39m(\u001b[39m\"\u001b[39m\u001b[39m ::: REDIS SET CALL!\u001b[39m\u001b[39m\"\u001b[39m, \u001b[39mself\u001b[39;49m\u001b[39m.\u001b[39;49m_id, \u001b[39m\"\u001b[39m\u001b[39m:::\u001b[39m\u001b[39m\"\u001b[39m, args, \u001b[39m\"\u001b[39m\u001b[39m:::\u001b[39m\u001b[39m\"\u001b[39m, kwargs)\n\u001b[1;32m     <a href='vscode-notebook-cell:/home/magic/wholesomegarden/xo-core/xo-integrations.ipynb#W3sZmlsZQ%3D%3D?line=52'>53</a>\u001b[0m     kwargs[\u001b[39m\"\u001b[39m\u001b[39m_skip_overload\u001b[39m\u001b[39m\"\u001b[39m] \u001b[39m=\u001b[39m \u001b[39mTrue\u001b[39;00m\n\u001b[1;32m     <a href='vscode-notebook-cell:/home/magic/wholesomegarden/xo-core/xo-integrations.ipynb#W3sZmlsZQ%3D%3D?line=53'>54</a>\u001b[0m     \u001b[39mif\u001b[39;00m \u001b[39mlen\u001b[39m (args) \u001b[39m==\u001b[39m \u001b[39m0\u001b[39m:\n\u001b[1;32m     <a href='vscode-notebook-cell:/home/magic/wholesomegarden/xo-core/xo-integrations.ipynb#W3sZmlsZQ%3D%3D?line=54'>55</a>\u001b[0m         \u001b[39m# print(\" ::: REDIS GET CALL:\", self._id, \":::\", args, \":::\", kwargs, \":::\")\u001b[39;00m\n",
      "\u001b[0;31mAttributeError\u001b[0m: 'str' object has no attribute '_id'"
     ]
    },
    {
     "ename": "",
     "evalue": "",
     "output_type": "error",
     "traceback": [
      "The Kernel crashed while executing code in the the current cell or a previous cell. Please review the code in the cell(s) to identify a possible cause of the failure. Click <a href='https://aka.ms/vscodeJupyterKernelCrash'>here</a> for more info. View Jupyter <a href='command:jupyter.viewOutput'>log</a> for further details."
     ]
    }
   ],
   "source": [
    "\n",
    "from xo import *\n",
    "import redis\n",
    "r = redis.Redis(host='0.0.0.0', port=6379, db=0)\n",
    "pubsub = r.pubsub()\n",
    "\n",
    "\n",
    "def redisSet(self,name,value=None, *args, **kwargs):\n",
    "    # print(\"YYYYYYYYYYYYEEEEEEEEESSSSSSSSSSSet\",self._id,name,value, args, kwargs)\n",
    "    self[name] # double set to update (created, then update)\n",
    "    # if len (args) == 0 or value is None or name is None:\n",
    "    if value is None or name is None:\n",
    "        pass # print(\"00000000000000\", self._id, name, value, args, kwargs)\n",
    "    elif len(args) == 0:\n",
    "        # print(\"111111111111111111110\", self._id, name, value, args, kwargs)\n",
    "        # res = self.__setattr__(*args, **kwargs)\n",
    "        redisID = self._id+\"/\"+name\n",
    "        kwargs[\"_skip_overload\"] = True\n",
    "        # print(type(self),self)\n",
    "        self[name]._setValue(value)\n",
    "        self.__setattr__(name, value, *args, **kwargs)\n",
    "        res = r.set(redisID, value)\n",
    "        # print(\"vvvvvvvvvvvv2\",type(value),value)\n",
    "        print(\" ::: REDIS SET:\", redisID,\":::\", value)\n",
    "        r.publish(redisID, value)\n",
    "        res = r.get(self._id)\n",
    "        print(f\" ::: REDIS SET RESULTS: ({redisID})\", \":::\", res, \":::\", self, \":::\")\n",
    "        # self[args[0]]._setValue(res)\n",
    "        # print(\"RES\", res)\n",
    "        # self.value = value\n",
    "        # print(\"ttt\", name, value, self)\n",
    "        # self[name]._setValue(value)\n",
    "        # return res\n",
    "        # # print(\" ::: REDIS GET:\", self._id, args, kwargs)\n",
    "        # print(\" ::: REDIS RESULTS:\", res)\n",
    "        return value\n",
    "    else:\n",
    "        redisID = self._id+\"/\"+name\n",
    "        print(\" ::: REDIS SET !\",redisID, args, kwargs)\n",
    "        res = r.set(redisID, value)\n",
    "        r.publish(redisID, value)\n",
    "        # self[args[0]].value = res\n",
    "        # print(\" ::: REDIS RESULTS:\", res)\n",
    "        self[name]._setValue(value)\n",
    "        print(f\" ::: REDIS SET RESULTS: ({redisID})\", \":::\", res, \":::\", self, \":::\")\n",
    "        # self.__setattr__(self,args[0], res, _skip_overload=True)# *args, **kwargs)\n",
    "        # *args, **kwargs)\n",
    "        self.__setattr__(name, value, _skip_overload=True)  # *args, **kwargs)\n",
    "        return value\n",
    "\n",
    "def redisCall(self, *args, **kwargs):\n",
    "    # print(\"YYYYYYYYYYYYEEEEEEEEESSSSSSSSSSSCCC\",self._id, args, kwargs)\n",
    "    print(\" ::: REDIS SET CALL!\", self._id, \":::\", args, \":::\", kwargs)\n",
    "    kwargs[\"_skip_overload\"] = True\n",
    "    if len (args) == 0:\n",
    "        # print(\" ::: REDIS GET CALL:\", self._id, \":::\", args, \":::\", kwargs, \":::\")\n",
    "        res = r.get(self._id)\n",
    "        self._setValue(res)\n",
    "        self.value = res\n",
    "        # print(\" ::: REDIS RESULTS:\", res)\n",
    "        print(f\" ::: REDIS GET RESULTS: ({self._id})\", \":::\", res, \":::\", self, \":::\")\n",
    "        return res\n",
    "    else:\n",
    "        res = r.set(self._id, args[0])\n",
    "        # print(\"vvvvvvvvvvvv\", type(value), value)\n",
    "        # print(args[0],type(args[0]))\n",
    "        r.publish(self._id, args[0])\n",
    "        print(\" ::: REDIS RESULTS:\", res)\n",
    "        self._setValue(args[0])\n",
    "        print(f\" ::: REDIS SET RESULTS: ({self._id})\", \":::\", res, \":::\", self, \":::\")\n",
    "        return self\n",
    "\n",
    "\n",
    "    # self.__call__(self, *args, **kwargs)\n",
    "    # if \"org\" in kwargs:\n",
    "    #     return kwargs[\"org\"](self, overload=False, *args, **kwargs)\n",
    "\n",
    "xo.redis._behaviors = {Expando.__call__: redisCall,\n",
    "                       Expando.__setattr__: redisSet}\n",
    "# xo.redis._behaviors[Expando.__setattr__] = redisSet\n",
    "\n",
    "# xo.redis._behaviors[Expando.__getattr__] = redisCall\n",
    "# xo.redis._behaviors[Expando.__repr__] = redisGetSet\n",
    "# xo.redis._behaviors[Expando.__str__] = redisGetSet\n",
    "\n",
    "\n",
    "\n",
    "\n",
    "# print(\"\")\n",
    "# print(xo.redis._behaviors)\n",
    "# print(\"\")\n",
    "# print(\"_________________________________\")\n",
    "print(\"_________________________________\")\n",
    "# print(\"change fooooooo:  \")\n",
    "xo.redis.a.b.c(\"FOOOOOOOOOOOO\")\n",
    "xo.redis.a.b.c(\"FOOOOOOOOOOOOX\")\n",
    "xo.redis.a.b.c(\"LUCKY\")\n",
    "xo.redis.a.b.c(\"LUCKYER\")\n",
    "\n",
    "print(\"!!!!!!!! get foo ?\", xo.redis.a.b.c())\n",
    "print(\"_________________________________\")\n",
    "xo.redis.a.b.c.d.e = 333\n",
    "xo.redis.a.b.c.d.e = 444\n",
    "xo.redis.a = \"super easy to...\"\n",
    "xo.redis.b = \"save to redis!\"\n",
    "xo.redis.a.b.c.d.e.f.g = \"AMAZING *this is saved to redis via xo********\"\n",
    "print(\"!!!!!!!! get Amazing 1? \"+str(xo.redis.a.b.c.d.e.f.g))\n",
    "xo.redis.a.b.c.d.e.f.g(\"AMAZING 123 *this is saved to redis via xo********\")\n",
    "print(\"!!!!!!!! get Amazing 2? \"+str(xo.redis.a.b.c.d.e.f.g.value))\n",
    "print(\"!!!!!!!! get Amazing 4? \"+str(xo.redis.a.b.c.d.e.f.g()))\n",
    "print()\n",
    "print(\"_________________\")\n",
    "print(\"▲▲▲▲▲▲▲▲▲▲▲▲▲▲▲▲▲▲▲▲▲▲▲▲▲▲▲\")\n",
    "# print(dict(xo.redis))\n",
    "xo.redis\n",
    "# print(dict(xo.redis))\n",
    "print(xo.redis.a.b.c())\n",
    "print(xo.redis.a.b.c.value)\n",
    "print(xo.redis.a.b.c)\n",
    "print(xo.redis.a.b.c.d.e.value)"
   ]
  },
  {
   "cell_type": "code",
   "execution_count": null,
   "metadata": {},
   "outputs": [
    {
     "name": "stdout",
     "output_type": "stream",
     "text": [
      "Nice ! @@@@@@ <function foo at 0x7fdc23158a60> () {}\n"
     ]
    },
    {
     "data": {
      "text/plain": [
       "2"
      ]
     },
     "execution_count": 4,
     "metadata": {},
     "output_type": "execute_result"
    }
   ],
   "source": [
    "def overloadX(self, org=None,*args, **kwargs):\n",
    "    print(\"Nice !\", self, org, args, kwargs)\n",
    "    # If you want to run the original function, you can do this:\n",
    "    return org(self, overload=False, *args, **kwargs)\n",
    "\n",
    "def foo(self, overload=True, *args, **kwargs):\n",
    "    if overload: return _behaviors[foo](self,org=foo,*args,**kwargs) if foo in _behaviors else foo(self,overload=False,*args,**kwargs);\n",
    "    # If not overloaded, do what was intended\n",
    "    return 2\n",
    "\n",
    "_behaviors = { foo: overloadX }\n",
    "\n",
    "foo(\"@@@@@@\")"
   ]
  },
  {
   "cell_type": "markdown",
   "metadata": {},
   "source": []
  },
  {
   "cell_type": "code",
   "execution_count": null,
   "metadata": {},
   "outputs": [
    {
     "name": "stdout",
     "output_type": "stream",
     "text": [
      "@@@@@@@@@@@@@@@@@@@@@@@@@@\n",
      "@@@@@@@@   matmul  @@@@@@@\n",
      "@@@@@@@@     x     @@@@@@@\n",
      "@@@@@@@@     x     @@@@@@@\n",
      "@@@@@@@@           @@@@@@@ <class 'str'>\n",
      "@@@@@@@@@@@@@@@@@@@@@@@@@@ recording_app\n",
      "@@@@@@@@@@@@@@@@@@@@@@@@@@\n",
      "@@@@@@@@  imatmul  @@@@@@@\n",
      "@@@@@@@@           @@@@@@@\n",
      "@@@@@@@@           @@@@@@@\n",
      "@@@@@@@@           @@@@@@@ <class 'str'>\n",
      "@@@@@@@@@@@@@@@@@@@@@@@@@@ yoo\n",
      "{'redis': {'a': {'b': {'c': {'value': b'LUCKYER', 'd': {'e': {'value': 444, 'f': {'g': b'AMAZING 123 *this is saved to redis via xo********'}}}}}, 'value': 'super easy to...'}, 'b': 'save to redis!'}, 'zmq': {'nice': {'awesome': 'please breath'}}, 'use': <function <lambda> at 0x7fdc401e8040>, 'value': 'yoo'}\n",
      "{'redis': {'a': {'b': {'c': {'value': b'LUCKYER', 'd': {'e': {'value': 444, 'f': {'g': b'AMAZING 123 *this is saved to redis via xo********'}}}}}, 'value': 'super easy to...'}, 'b': 'save to redis!'}, 'zmq': {'nice': {'awesome': 'please breath'}}, 'use': <function <lambda> at 0x7fdc401e8040>, 'value': 'yoo'}\n"
     ]
    }
   ],
   "source": [
    "from xo import *\n",
    "a = lambda x: x@xo\n",
    "\n",
    "# xo.zmq@\"namespace\"                                                                              # type: ignore\n",
    "xo.zmq@\"recording_app\"                                                                          # type: ignore\n",
    "xo.zmq.nice.awesome = \"please breath\"                                                                          # type: ignore\n",
    "\n",
    "\n",
    "xo.use = lambda x: x@xo\n",
    "xo.use(\"yoo\")\n",
    "\n",
    "print(xo)"
   ]
  },
  {
   "cell_type": "code",
   "execution_count": null,
   "metadata": {},
   "outputs": [
    {
     "name": "stdout",
     "output_type": "stream",
     "text": [
      "DONE! {'a': {'b': {'c': {'value': b'LUCKYER', 'd': {'e': {'value': 444, 'f': {'g': b'AMAZING 123 *this is saved to redis via xo********'}}}}}, 'value': 'super easy to...'}, 'b': 'save to redis!'}\n",
      "\n",
      ":::\n",
      "::: {'value': b'LUCKYER', 'd': {'e': {'value': 444, 'f': {'g': b'AMAZING 123 *this is saved to redis via xo********'}}}}\n",
      " ::: REDIS SET CALL! xo/redis/a/b/c ::: () ::: {}\n",
      "{'value': b'LUCKYER', 'd': {'e': {'value': 444, 'f': {'g': b'AMAZING 123 *this is saved to redis via xo********'}}}}\n",
      " ::: REDIS GET RESULTS: (xo/redis/a/b/c) ::: b'LUCKYER' ::: {'value': b'LUCKYER', 'd': {'e': {'value': 444, 'f': {'g': b'AMAZING 123 *this is saved to redis via xo********'}}}} :::\n",
      "::: b'LUCKYER'\n",
      " ::: REDIS SET CALL! xo/redis/a/b/c ::: ('set with call',) ::: {}\n",
      " ::: REDIS RESULTS: True\n",
      "{'value': 'set with call', 'd': {'e': {'value': 444, 'f': {'g': b'AMAZING 123 *this is saved to redis via xo********'}}}}\n",
      " ::: REDIS SET RESULTS: (xo/redis/a/b/c) ::: True ::: {'value': 'set with call', 'd': {'e': {'value': 444, 'f': {'g': b'AMAZING 123 *this is saved to redis via xo********'}}}} :::\n",
      "{'value': 'set with assignment <3', 'd': {'e': {'value': 444, 'f': {'g': b'AMAZING 123 *this is saved to redis via xo********'}}}}\n",
      " ::: REDIS SET: xo/redis/a/b/c ::: set with assignment <3\n",
      " ::: REDIS SET RESULTS: (xo/redis/a/b/c) ::: None ::: {'c': {'value': 'set with assignment <3', 'd': {'e': {'value': 444, 'f': {'g': b'AMAZING 123 *this is saved to redis via xo********'}}}}} :::\n",
      ":::\n",
      "::: set with assignment <3\n"
     ]
    }
   ],
   "source": [
    "# xo.redis.a.b.c = \"YEAAAAAAAAAA BOYYYYYYYY\"\n",
    "# print(\"......!!!!!\", r.get(\"xo/redis/a/b/c\"))\n",
    "# print(\"......!!!!!\", xo.redis.a.b.c)\n",
    "# xo.redis.a.b.c = \"YEAAAAAAAAAA BOYYYYYYYY2\"\n",
    "# print(\"......!!!!!\", r.get(\"xo/redis/a/b/c\"))\n",
    "# print(\"......!!!!!\", xo.redis.a.b.c.value)\n",
    "\n",
    "# xo.redis.a.b.c(\"calllllll\")\n",
    "# print(\"......\")\n",
    "# print()\n",
    "# print()\n",
    "# print()\n",
    "# print()\n",
    "# print(\"DONE!\", str(xo.redis.a.b.c()))\n",
    "print(\"DONE!\", str(xo.redis))\n",
    "print()\n",
    "print(\":::\",)\n",
    "print(\":::\",xo.redis.a.b.c)\n",
    "print(\":::\",xo.redis.a.b.c())\n",
    "xo.redis.a.b.c(\"set with call\")\n",
    "xo.redis.a.b.c = \"set with assignment <3\"\n",
    "print(\":::\",)\n",
    "print(\":::\",xo.redis.a.b.c.value)\n"
   ]
  },
  {
   "cell_type": "code",
   "execution_count": null,
   "metadata": {},
   "outputs": [
    {
     "name": "stdout",
     "output_type": "stream",
     "text": [
      " ::: SUBSCRIBING TO REDIS CHANNEL xo/redis* :::\n",
      "\n",
      " ::: REDIS SET CALL! xo/redis/x/y/z ::: ('ZZZZZZZZ1',) ::: {}\n",
      " ::: REDIS RESULTS: True\n",
      "ZZZZZZZZ1\n",
      " ::: REDIS SET RESULTS: (xo/redis/x/y/z) ::: True ::: ZZZZZZZZ1 :::\n",
      "ZZZZZZZZ2\n",
      "{'redis': {'a': {'b': {'c': {'value': 'set with assignment <3', 'd': {'e': {'value': 444, 'f': {'g': b'AMAZING 123 *this is saved to redis via xo********'}}}}}, 'value': 'super easy to...'}, 'b': 'save to redis!', 'x': {'y': {'z': 'ZZZZZZZZ2'}}}, 'zmq': {'nice': {'awesome': 'please breath'}}, 'use': <function <lambda> at 0x7fdc401e8040>, 'value': 'yoo'} xo\n",
      "b'ZZZZZZZZ1'\n",
      ">>>>>>>>>>>>>>>\n",
      "xo/redis/x/y/z : {'value': b'ZZZZZZZZ1'}\n",
      "<<<<<<<<<<<<<<<\n",
      "\n",
      " ::: REDIS SET: xo/redis/x/y/z ::: ZZZZZZZZ2\n",
      "{'redis': {'a': {'b': {'c': {'value': 'set with assignment <3', 'd': {'e': {'value': 444, 'f': {'g': b'AMAZING 123 *this is saved to redis via xo********'}}}}}, 'value': 'super easy to...'}, 'b': 'save to redis!', 'x': {'y': {'z': b'ZZZZZZZZ1'}}}, 'zmq': {'nice': {'awesome': 'please breath'}}, 'use': <function <lambda> at 0x7fdc401e8040>, 'value': 'yoo'} xo\n",
      "b'ZZZZZZZZ2'\n",
      ">>>>>>>>>>>>>>>\n",
      "xo/redis/x/y/z : {'value': b'ZZZZZZZZ2'}\n",
      "<<<<<<<<<<<<<<<\n",
      "\n",
      " ::: REDIS SET RESULTS: (xo/redis/x/y/z) ::: None ::: {'z': b'ZZZZZZZZ2'} :::\n",
      "b'ZZZZZZZZ2'\n",
      "\n"
     ]
    }
   ],
   "source": [
    "\n",
    "\n",
    "def custom_handler(msg, *args, **kwargs):\n",
    "    if isinstance(msg, dict) and \"type\" in msg:\n",
    "        if \"message\" in msg[\"type\"]:         \n",
    "            # do_something with the message\n",
    "            channel = msg[\"channel\"].decode().replace(\"/\", \".\").strip(\"xo.\")#.split(\".\")[-1]\n",
    "            # print(\"@@@@@@@@@@@@@@@@@@@@@@@@@@@@@@@@@@@@@\", msg, args, kwargs)\n",
    "            # return message\n",
    "            # print(\"@@@@@@@@@@@@@@@@@@@@@@@@@@@@@@@@@@@@@\")\n",
    "            # print(\"@@@@@@@@@@@@@@@@@@@@@@@@@@@@@@@@@@@@@\", str(msg[\"channel\"]).replace(\"/\", \".\"))\n",
    "            # print(\"@@@@@@@@@@@@@@@@@@@@@@@@@@@@@@@@@@@@@\",\n",
    "                # msg[\"channel\"].decode().replace(\"/\", \".\"))\n",
    "            # print(\"@@@@@@@@@@@@@@@@@@@@@@@@@@@@@@@@@@@@@\", msg[\"data\"])\n",
    "            f = xo._GetXO(channel, allow_creation=True)\n",
    "            # f = xo[msg[\"channel\"].decode().strip(\"xo/\").replace(\"/\", \".\")]\n",
    "            # f[channel] = msg[\"data\"]\n",
    "            # print(\"######  \", f)\n",
    "            f._setValue(msg[\"data\"])\n",
    "            # print(\"######  \", f.value)\n",
    "            # print(\"######  \", dict(f))\n",
    "            # print(dict(f))\n",
    "            # print(\"A@@@@@@@@@@@@@@@@@@@@@@@@@@@@@@@@@@@@@\",f)\n",
    "            print(\">>>>>>>>>>>>>>>\")\n",
    "            print(f._id,\":\", dict(f))\n",
    "            print(\"<<<<<<<<<<<<<<<\")\n",
    "            print()\n",
    "        if msg[\"type\"] == \"subscribe\":\n",
    "            print(\" ::: SUBSCRIBED TO CHANNEL\", msg[\"pattern\"])\n",
    "        \n",
    "\n",
    "def subscribe(key=\"xo/redis*\", handler=lambda msg: print('XXXXXXXXXXXXHandler', msg), *args, **kwargs):\n",
    "    # print(\"UUUUUUUUUUUUUUUUUUUUUUUU\", key, handler, args, kwargs)\n",
    "    # print(\"UUUUUUUUUUUUUUUUUUUUUUUU\")\n",
    "    # print(\"UUUUUUUUUUUUUUUUUUUUUUUU\")\n",
    "    # print(\"UUUUUUUUUUUUUUUUUUUUUUUU\")\n",
    "    print(\" ::: SUBSCRIBING TO REDIS CHANNEL\", key, \":::\", )\n",
    "    pubsub.psubscribe(**{key: handler})\n",
    "    # pubsub.psubscribe(key = key, handler = handler)\n",
    "    # pubsub.subscribe(subscribe_key)\n",
    "    # pubsub.subscribe(key)\n",
    "    # pubsub.subscribe(**{key: event_handler if handler is None else handler})\n",
    "    # print(\"........00000\")\n",
    "    pubsub.run_in_thread(sleep_time=.00001, daemon=True)\n",
    "    # for item in pubsub.listen():\n",
    "    #     print(item, type(item))\n",
    "    #     if item['type'] == 'message':\n",
    "    #         print(item['data'])\n",
    "    # print(\"DONE\")\n",
    "\n",
    "import time \n",
    "\n",
    "# print(\"ooooooooooooo\")\n",
    "# subscribe(key='xo/redis/a/b/c', handler=lambda msg: print('Handler', msg))\n",
    "subscribe(handler=custom_handler)\n",
    "# subscribe(\"xo/redis/a/b/c\", handler=lambda msg: print(\n",
    "#     \" ::: AAAAAAAAAAAAAAAAAAAAAAAAAAAAAAAABCCCCC CHANGED TO\", msg))\n",
    "# print(\"DONE!\", str(xo.redis.a.b.c.value))\n",
    "# for new_message in pubsub.listen():\n",
    "#     custom_handler(new_message)\n",
    "#     print(\"222\")\n",
    "print()\n",
    "xo.redis.x.y.z(\"ZZZZZZZZ1\")\n",
    "xo.redis.x.y.z = \"ZZZZZZZZ2\"\n",
    "print(xo.redis.x.y.z.value)\n",
    "print()\n"
   ]
  },
  {
   "cell_type": "code",
   "execution_count": null,
   "metadata": {},
   "outputs": [],
   "source": []
  },
  {
   "cell_type": "code",
   "execution_count": null,
   "metadata": {},
   "outputs": [],
   "source": [
    "while True:\n",
    "    time.sleep(1)"
   ]
  },
  {
   "cell_type": "markdown",
   "metadata": {},
   "source": [
    "TODO - subscribe to redis pubsub"
   ]
  },
  {
   "cell_type": "code",
   "execution_count": null,
   "metadata": {},
   "outputs": [],
   "source": []
  }
 ],
 "metadata": {
  "kernelspec": {
   "display_name": "Python 3.8.12 64-bit",
   "language": "python",
   "name": "python3"
  },
  "language_info": {
   "codemirror_mode": {
    "name": "ipython",
    "version": 3
   },
   "file_extension": ".py",
   "mimetype": "text/x-python",
   "name": "python",
   "nbconvert_exporter": "python",
   "pygments_lexer": "ipython3",
   "version": "3.8.12"
  },
  "orig_nbformat": 4,
  "vscode": {
   "interpreter": {
    "hash": "0adcc2737ebf6a4a119f135174df96668767fca1ef1112612db5ecadf2b6d608"
   }
  }
 },
 "nbformat": 4,
 "nbformat_minor": 2
}
