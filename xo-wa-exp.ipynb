{
 "cells": [
  {
   "cell_type": "markdown",
   "metadata": {},
   "source": [
    "### <center> xo-wa</center>"
   ]
  },
  {
   "cell_type": "markdown",
   "metadata": {},
   "source": [
    "```\n",
    "nvm use 16.17.0\n",
    "pip install wa-automate-socket-client\n",
    "\n",
    "cd session_folder\n",
    "npx @open-wa/wa-automate -v --multi-device --socket -p 8085 -k xo --qr-timeout 0 --license-key 6826E910-BC034D2F-97A755C0-AC7A0C86\n",
    "```"
   ]
  },
  {
   "cell_type": "code",
   "execution_count": null,
   "metadata": {},
   "outputs": [],
   "source": []
  },
  {
   "cell_type": "code",
   "execution_count": 1,
   "metadata": {},
   "outputs": [
    {
     "name": "stdout",
     "output_type": "stream",
     "text": [
      "@@@@@@@@@@@@@@ CONNECTED TO WA 972547932000\n"
     ]
    }
   ],
   "source": [
    "from xo import *\n",
    "# from openwa import WhatsAPIDriver\n",
    "# from selenium import webdriver\n",
    "# from munch import Munch\n",
    "import os\n",
    "import re\n",
    "import time\n",
    "\n",
    "# import json\n",
    "# import requests\n",
    "# from resizeimage import resizeimage\n",
    "# import magic\n",
    "# from PIL import Image\n",
    "# from base64 import b64decode, b64encode\n",
    "# from c18core import *\n",
    "\n",
    "# chromedriverV = 89\n",
    "# chromedriverV = 98\n",
    "\n",
    "from wa_automate_socket_client import SocketClient\n",
    "\n",
    "\n",
    "def initClient(firstTime=False):\n",
    "    client = SocketClient(\"http://localhost:8085/\", \"xo\")\n",
    "    if not firstTime:\n",
    "        client.onMessage(xo.incoming)\n",
    "    else:\n",
    "        found = False\n",
    "        while not found:\n",
    "            try:\n",
    "                res = client.getHostNumber()\n",
    "                if res != \"\":\n",
    "                    found = True\n",
    "                    print(\"@@@@@@@@@@@@@@ CONNECTED TO WA\", res)\n",
    "                    client.sendText(\"972547932000@c.us\",\n",
    "                                    \"!!!!! WA SERVER LIVE !!!!!\\n\"+res)\n",
    "            except:\n",
    "                print(\".... wa hasnt loaded yet\")\n",
    "                time.sleep(1)\n",
    "\n",
    "        client.getHostNumber()\n",
    "    return client\n",
    "\n",
    "\n",
    "# print(\"@@@@@@@@@@@@@@@@@@@@@@@@@@@@@@@@@@@@@@@@@@@@@ starting wa\")\n",
    "# xo.cmd(\"sh /root/startWa.sh\")\n",
    "# print(\"@@@@@@@@@@@@@@@@@@@@@@@@@@@@@@@@@@@@@@@@@@@@@\")\n",
    "client = initClient(True)\n",
    "# client.."
   ]
  },
  {
   "cell_type": "code",
   "execution_count": 2,
   "metadata": {},
   "outputs": [
    {
     "name": "stdout",
     "output_type": "stream",
     "text": [
      "@@@@@@@@@@@@@@@@@@@@@@@@@@\n",
      "@@@@@@@@           @@@@@@@\n",
      "@@@@@@@@     x     @@@@@@@\n",
      "@@@@@@@@     x     @@@@@@@\n",
      "@@@@@@@@           @@@@@@@ <class 'tuple'>\n",
      "@@@@@@@@@@@@@@@@@@@@@@@@@@ ('972547932000', 'alright!!!!!!!!!!!!!!!!')\n"
     ]
    },
    {
     "data": {
      "text/plain": [
       "'true_972547932000@c.us_3EB00EAF4D622C7CBC66_out'"
      ]
     },
     "execution_count": 2,
     "metadata": {},
     "output_type": "execute_result"
    }
   ],
   "source": [
    "\n",
    "\n",
    "def handleSendMessage(number, msg):\n",
    "    number = number + \"@c.us\" if \"@c.us\" not in number and \"@g.us\" not in number else number\n",
    "    number = number.replace(\"+\", \"\")\n",
    "    return client.sendText(number, msg)\n",
    "    # return True\n",
    "    links = re.findall(r'\\b((?:https?://)?(?:(?:www\\.)?(?:[\\da-z\\.-]+)\\.(?:[a-z]{2,6})|(?:(?:25[0-5]|2[0-4][0-9]|[01]?[0-9][0-9]?)\\.){3}(?:25[0-5]|2[0-4][0-9]|[01]?[0-9][0-9]?)|(?:(?:[0-9a-fA-F]{1,4}:){7,7}[0-9a-fA-F]{1,4}|(?:[0-9a-fA-F]{1,4}:){1,7}:|(?:[0-9a-fA-F]{1,4}:){1,6}:[0-9a-fA-F]{1,4}|(?:[0-9a-fA-F]{1,4}:){1,5}(?::[0-9a-fA-F]{1,4}){1,2}|(?:[0-9a-fA-F]{1,4}:){1,4}(?::[0-9a-fA-F]{1,4}){1,3}|(?:[0-9a-fA-F]{1,4}:){1,3}(?::[0-9a-fA-F]{1,4}){1,4}|(?:[0-9a-fA-F]{1,4}:){1,2}(?::[0-9a-fA-F]{1,4}){1,5}|[0-9a-fA-F]{1,4}:(?:(?::[0-9a-fA-F]{1,4}){1,6})|:(?:(?::[0-9a-fA-F]{1,4}){1,7}|:)|fe80:(?::[0-9a-fA-F]{0,4}){0,4}%[0-9a-zA-Z]{1,}|::(?:ffff(?::0{1,4}){0,1}:){0,1}(?:(?:25[0-5]|(?:2[0-4]|1{0,1}[0-9]){0,1}[0-9])\\.){3,3}(?:25[0-5]|(?:2[0-4]|1{0,1}[0-9]){0,1}[0-9])|(?:[0-9a-fA-F]{1,4}:){1,4}:(?:(?:25[0-5]|(?:2[0-4]|1{0,1}[0-9]){0,1}[0-9])\\.){3,3}(?:25[0-5]|(?:2[0-4]|1{0,1}[0-9]){0,1}[0-9])))(?::[0-9]{1,4}|[1-5][0-9]{4}|6[0-4][0-9]{3}|65[0-4][0-9]{2}|655[0-2][0-9]|6553[0-5])?(?:/[\\w\\.-]*)*/?)\\b', msg)\n",
    "    if links and len(links) > 0:\n",
    "        print(links)\n",
    "        print(f\"Sending preview with link: {links[0]}\")\n",
    "        try:\n",
    "            # response, res = sendMessageUrlPost(number, msg, links[0])\n",
    "            res = client.sendLinkWithAutoPreview(number, links[0], msg)\n",
    "        except:\n",
    "            print(\"After exception: sending regular message without preview\")\n",
    "            res = client.sendText(number, msg)\n",
    "    else:\n",
    "        print(\"Sending regular message without preview\")\n",
    "        res = client.sendText(number, msg)\n",
    "    print(\"DONE sending\")\n",
    "    # return response, res\n",
    "    print(res)\n",
    "    return res\n",
    "\n",
    "\n",
    "def sendMessageQuick(number=\"972547932000@c.us\", msg=\"Yo\"):\n",
    "    global client\n",
    "    try:\n",
    "        return handleSendMessage(number, msg)\n",
    "    except:\n",
    "        client = initClient()\n",
    "        return handleSendMessage(number, msg)\n",
    "\n",
    "\n",
    "##########################\n",
    "sendMessageQuick(\"972547932000@c.us\", \"Hello\")\n",
    "\n",
    "xo.wa.msg = lambda number=\"972547932000@c.us\", msg=\"Yo\": sendMessageQuick(number, msg)\n",
    "xo.wa.send = xo.wa.msg\n",
    "\n",
    "xo.wa = lambda number,msg: xo.wa.msg(number,msg)\n",
    "# xo.wa.msg(msg = \"alright\")\n",
    "xo.wa@(\"972547932000\",\"alright!!!!!!!!!!!!!!!!\")  # type: ignore\n"
   ]
  },
  {
   "cell_type": "code",
   "execution_count": null,
   "metadata": {},
   "outputs": [],
   "source": []
  },
  {
   "cell_type": "code",
   "execution_count": 3,
   "metadata": {},
   "outputs": [
    {
     "name": "stdout",
     "output_type": "stream",
     "text": [
      " ::: Subscribing to incoming\n",
      "true_972547932000@c.us_3EB02088B9C665FA5F6E_out\n"
     ]
    }
   ],
   "source": [
    "\n",
    "xo.wa.incoming @= lambda msg: print(\" ::: incoming message: \", msg)\n",
    "print(xo.wa.send(\"972547932000\",\"hi mom!\"))  # type: ignore"
   ]
  },
  {
   "cell_type": "code",
   "execution_count": 4,
   "metadata": {},
   "outputs": [
    {
     "name": "stdout",
     "output_type": "stream",
     "text": [
      "true_972547932000@c.us_3EB036DF58B5D97A367C_out\n"
     ]
    }
   ],
   "source": [
    "xo.msg = \"hi mom!\"\n",
    "xo.msg.extra = \"love\"\n",
    "xo.msg.sender = \"son\"\n",
    "# print(xo.wa.send(\"972547932000\",\"hi mom!\"))  # type: ignore\n",
    "print(xo.wa.send(\"972547932000\",str(xo.msg)))  # type: ignore\n",
    "del xo.msg"
   ]
  },
  {
   "cell_type": "markdown",
   "metadata": {},
   "source": [
    "<center>auto issues report</center>\n",
    "\n",
    "```"
   ]
  },
  {
   "cell_type": "code",
   "execution_count": 5,
   "metadata": {},
   "outputs": [
    {
     "name": "stdout",
     "output_type": "stream",
     "text": [
      " ::: Subscribing to issue\n",
      "true_972547932000@c.us_3EB0809F5B01981C01A9_out\n",
      "{'wa': {'msg': <function <lambda> at 0x7fb27f877550>, 'send': <function <lambda> at 0x7fb27f877550>, 'value': <function <lambda> at 0x7fb27c01df70>, 'incoming': {}}, 'msg': {'value': 'hi mom!', 'extra': 'love', 'sender': 'son'}, 'issue': 'reporting issue', 'master': '972547932000'}\n"
     ]
    }
   ],
   "source": [
    "xo.issue @= lambda data : print(xo.wa.send(xo.master(),\n",
    "f'''\n",
    "*Reporting Issue:*\n",
    "{data}\n",
    "'''))\n",
    "xo.master = \"972547932000\"\n",
    "# xo.issue(\"reporting issue\")\n",
    "xo.issue = \"reporting issue\"\n",
    "print(xo)"
   ]
  },
  {
   "cell_type": "code",
   "execution_count": 6,
   "metadata": {},
   "outputs": [
    {
     "name": "stdout",
     "output_type": "stream",
     "text": [
      "true_972547932000@c.us_3EB02412F3D5BA5FDB85_out\n"
     ]
    }
   ],
   "source": [
    "# xo.issue = \"YYYYYYYYOOOOOOO\"\n",
    "def mockRobee(robee):\n",
    "    # robee._setValue = \"robee1\"\n",
    "    robee._setValue(\"robee1\")\n",
    "    robee.sw.server.version = \"1.0.0\"\n",
    "    robee.sw.server.version = \"1.0.0\"\n",
    "    robee.hw.vescs.version = \"1.0.0\"\n",
    "    robee.hw.motor.id = \"ToyotaXR7\"\n",
    "    robee.hw.motor.version = \"a1\"\n",
    "    robee.hw.sensors.cameras = True\n",
    "    robee.hw.sensors.gps = True\n",
    "    robee.location = \"Elad\"\n",
    "    robee.location.gps = \"31.123, 34.123\"\n",
    "    robee.owner = \"Elad\"\n",
    "    robee.created = \"2022-08-31\"\n",
    "\n",
    "\n",
    "mockRobee(xo.field.robee1)\n",
    "desc = \"The motor is acting irregularly, please check it out. Thanks!\"\n",
    "xo.issue = f'''\n",
    "{desc}\n",
    "\n",
    "{dict(xo.field.robee1)}\n",
    "'''\n"
   ]
  },
  {
   "cell_type": "code",
   "execution_count": 7,
   "metadata": {},
   "outputs": [
    {
     "name": "stdout",
     "output_type": "stream",
     "text": [
      "true_972547932000@c.us_3EB0CC64ADFE13323A3D_out\n"
     ]
    }
   ],
   "source": [
    "xo.issue = \"omer is super awesome!\""
   ]
  },
  {
   "cell_type": "code",
   "execution_count": null,
   "metadata": {},
   "outputs": [],
   "source": []
  }
 ],
 "metadata": {
  "kernelspec": {
   "display_name": "Python 3.8.12 64-bit",
   "language": "python",
   "name": "python3"
  },
  "language_info": {
   "codemirror_mode": {
    "name": "ipython",
    "version": 3
   },
   "file_extension": ".py",
   "mimetype": "text/x-python",
   "name": "python",
   "nbconvert_exporter": "python",
   "pygments_lexer": "ipython3",
   "version": "3.8.12"
  },
  "orig_nbformat": 4,
  "vscode": {
   "interpreter": {
    "hash": "0adcc2737ebf6a4a119f135174df96668767fca1ef1112612db5ecadf2b6d608"
   }
  }
 },
 "nbformat": 4,
 "nbformat_minor": 2
}
