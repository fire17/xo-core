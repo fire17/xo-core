{
 "cells": [
  {
   "cell_type": "markdown",
   "metadata": {},
   "source": [
    "### <center> xo-integrations\n",
    "### s\n"
   ]
  },
  {
   "cell_type": "code",
   "execution_count": 1,
   "metadata": {},
   "outputs": [],
   "source": [
    "######### REDIS\n",
    "\n",
    "\n",
    "import redis\n",
    "r = redis.Redis(host='0.0.0.0', port=6379, db=0)\n",
    "# r.set('foo/a/b/c', 'bar')\n",
    "# print(r.get('foo/a/b/c'))\n",
    "# r.get\n"
   ]
  },
  {
   "cell_type": "code",
   "execution_count": 2,
   "metadata": {},
   "outputs": [
    {
     "name": "stdout",
     "output_type": "stream",
     "text": [
      "(1,) {}\n"
     ]
    }
   ],
   "source": [
    "from xo import *\n",
    "\n",
    "xo.a.b.c = lambda *a,**kw: print(a,kw)\n",
    "xo.a.b.c(1)"
   ]
  },
  {
   "cell_type": "code",
   "execution_count": 3,
   "metadata": {},
   "outputs": [
    {
     "name": "stdout",
     "output_type": "stream",
     "text": [
      "_________________________________\n",
      "change fooooooo:  \n",
      " ::: REDIS SET RESULTS: (xo/redis/a/b/c) True {} MMMMMMMMMMM\n",
      "_________________________________\n",
      "YYYYYYYYYYYYEEEEEEEEESSSSSSSSSSS xo/redis/a/b c 3 () {}\n",
      "111111111111111111110 xo/redis/a/b c 3 () {}\n",
      "ttt c 3\n",
      "YYYYYYYYYYYYEEEEEEEEESSSSSSSSSSS xo/redis a super easy () {}\n",
      "111111111111111111110 xo/redis a super easy () {}\n",
      "ttt a super easy\n",
      "YYYYYYYYYYYYEEEEEEEEESSSSSSSSSSS xo/redis b to save in redis () {}\n",
      "111111111111111111110 xo/redis b to save in redis () {}\n",
      "ttt b to save in redis\n",
      "YYYYYYYYYYYYEEEEEEEEESSSSSSSSSSS xo/redis/a/b/c/d/e/f g AMAZING *this is saved to redis via xo******** () {}\n",
      "111111111111111111110 xo/redis/a/b/c/d/e/f g AMAZING *this is saved to redis via xo******** () {}\n",
      "ttt g AMAZING *this is saved to redis via xo********\n",
      "\n",
      "_________________\n",
      "▲▲▲▲▲▲▲▲▲▲▲▲▲▲▲▲▲▲▲▲▲▲▲▲▲▲▲\n"
     ]
    },
    {
     "data": {
      "text/plain": [
       "{'a': {'b': {'c': {'value': 3, 'd': {'e': {'f': {'g': 'AMAZING *this is saved to redis via xo********'}}}}}, 'value': 'super easy'}, 'b': 'to save in redis'}"
      ]
     },
     "execution_count": 3,
     "metadata": {},
     "output_type": "execute_result"
    }
   ],
   "source": [
    "\n",
    "from xo import *\n",
    "\n",
    "def redisSet(self,name,value=None, *args, **kwargs):\n",
    "    print(\"YYYYYYYYYYYYEEEEEEEEESSSSSSSSSSS\",self._id,name,value, args, kwargs)\n",
    "    # if len (args) == 0 or value is None or name is None:\n",
    "    if value is None or name is None:\n",
    "        print(\"00000000000000\", self._id, name, value, args, kwargs)\n",
    "    elif len(args) == 0:\n",
    "        print(\"111111111111111111110\", self._id, name, value, args, kwargs)\n",
    "\n",
    "        # res = self.__setattr__(*args, **kwargs)\n",
    "        kwargs[\"_skip_overload\"] = True\n",
    "        res = self.__setattr__(name, value, *args, **kwargs)\n",
    "        print(\"ttt\", name, value)\n",
    "        # return res\n",
    "        # # print(\" ::: REDIS GET:\", self._id, args, kwargs)\n",
    "        # res = r.get(self._id)\n",
    "        # self[args[0]]._setValue(res)\n",
    "        # # print(\" ::: REDIS RESULTS:\", res)\n",
    "        # print(f\" ::: REDIS GET RESULTS: ({self._id})\", res, self, \"GGGGGGGG\")\n",
    "    else:\n",
    "        print(\" ::: REDIS SET !\",self._id, args, kwargs)\n",
    "        res = r.set(self._id+\"/\"+name, value)\n",
    "        # self[args[0]].value = res\n",
    "        # print(\" ::: REDIS RESULTS:\", res)\n",
    "        print(f\" ::: REDIS SET RESULTS: ({self._id+'/'+name})\", res, self, \"LLLLLLL\")\n",
    "        # self.__setattr__(self,args[0], res, _skip_overload=True)# *args, **kwargs)\n",
    "\n",
    "        self.__setattr__(name, res, _skip_overload=True)# *args, **kwargs)\n",
    "        # *args, **kwargs)\n",
    "        return res\n",
    "\n",
    "def redisCall(self, *args, **kwargs):\n",
    "    # print(\"YYYYYYYYYYYYEEEEEEEEESSSSSSSSSSSCCC\",self._id, args, kwargs)\n",
    "    kwargs[\"_skip_overload\"] = True\n",
    "    if len (args) == 0:\n",
    "        # print(\" ::: REDIS GET CALL:\", self._id, args, kwargs)\n",
    "        res = r.get(self._id)\n",
    "        # self._setValue(res)\n",
    "        # print(\" ::: REDIS RESULTS:\", res)\n",
    "        print(f\" ::: REDIS GET RESULTS: ({self._id})\", res, self, \"CCCCCCCCCCC\")\n",
    "        return res\n",
    "    else:\n",
    "        # print(\" ::: REDIS SET CALL!\",self._id, args, kwargs)\n",
    "        res = r.set(self._id, args[0])\n",
    "        # self._setValue(res)\n",
    "        print(f\" ::: REDIS SET RESULTS: ({self._id})\", res, self, \"MMMMMMMMMMM\")\n",
    "        return res\n",
    "\n",
    "    self.__call__(self, *args, **kwargs)\n",
    "    # if \"org\" in kwargs:\n",
    "    #     return kwargs[\"org\"](self, overload=False, *args, **kwargs)\n",
    "\n",
    "\n",
    "# xo.a.b.foo = lambda*a,**kw: print(\"ooooooo\",a,kw)\n",
    "# xo.a.b.foo(\"Hello\")\n",
    "\n",
    "\n",
    "xo.redis._behaviors = {Expando.__call__: redisCall}\n",
    "xo.redis._behaviors[Expando.__setattr__] = redisSet\n",
    "# xo.redis._behaviors[Expando.__getattr__] = redisCall\n",
    "# xo.redis._behaviors[Expando.__repr__] = redisGetSet\n",
    "# xo.redis._behaviors[Expando.__str__] = redisGetSet\n",
    "# print(\"\")\n",
    "# print(xo.redis._behaviors)\n",
    "# print(\"\")\n",
    "# print(\"_________________________________\")\n",
    "print(\"_________________________________\")\n",
    "print(\"change fooooooo:  \")\n",
    "xo.redis.a.b.c(\"FOOOOOOOOOOOO\")\n",
    "# print(\"!!!!!!!! get foo ?\", xo.redis.a.b.c())\n",
    "print(\"_________________________________\")\n",
    "xo.redis.a.b.c.d.e = 333\n",
    "xo.redis.a = \"super easy\"\n",
    "xo.redis.b = \"to save in redis\"\n",
    "xo.redis.a.b.c.d.e.f.g = \"AMAZING *this is saved to redis via xo********\"\n",
    "# print(\"!!!!!!!! get Amazing ? \"+str(xo.redis.a.b.c.d.e.f.g()))\n",
    "print()\n",
    "print(\"_________________\")\n",
    "print(\"▲▲▲▲▲▲▲▲▲▲▲▲▲▲▲▲▲▲▲▲▲▲▲▲▲▲▲\")\n",
    "# print(dict(xo.redis))\n",
    "xo.redis\n",
    "# print(dict(xo.redis))"
   ]
  },
  {
   "cell_type": "code",
   "execution_count": 4,
   "metadata": {},
   "outputs": [
    {
     "name": "stdout",
     "output_type": "stream",
     "text": [
      "Nice ! @@@@@@ <function foo at 0x7f319368aa60> () {}\n"
     ]
    },
    {
     "data": {
      "text/plain": [
       "2"
      ]
     },
     "execution_count": 4,
     "metadata": {},
     "output_type": "execute_result"
    }
   ],
   "source": [
    "def overloadX(self, org=None,*args, **kwargs):\n",
    "    print(\"Nice !\", self, org, args, kwargs)\n",
    "    # If you want to run the original function, you can do this:\n",
    "    return org(self, overload=False, *args, **kwargs)\n",
    "\n",
    "def foo(self, overload=True, *args, **kwargs):\n",
    "    if overload: return _behaviors[foo](self,org=foo,*args,**kwargs) if foo in _behaviors else foo(self,overload=False,*args,**kwargs);\n",
    "    # If not overloaded, do what was intended\n",
    "    return 2\n",
    "\n",
    "_behaviors = { foo: overloadX }\n",
    "\n",
    "foo(\"@@@@@@\")"
   ]
  },
  {
   "cell_type": "markdown",
   "metadata": {},
   "source": []
  },
  {
   "cell_type": "code",
   "execution_count": 5,
   "metadata": {},
   "outputs": [
    {
     "name": "stdout",
     "output_type": "stream",
     "text": [
      "@@@@@@@@@@@@@@@@@@@@@@@@@@\n",
      "@@@@@@@@           @@@@@@@\n",
      "@@@@@@@@     x     @@@@@@@\n",
      "@@@@@@@@     x     @@@@@@@\n",
      "@@@@@@@@           @@@@@@@ <class 'str'>\n",
      "@@@@@@@@@@@@@@@@@@@@@@@@@@ recording_app\n",
      "@@@@@@@@@@@@@@@@@@@@@@@@@@\n",
      "@@@@@@@@           @@@@@@@\n",
      "@@@@@@@@           @@@@@@@\n",
      "@@@@@@@@           @@@@@@@\n",
      "@@@@@@@@           @@@@@@@ <class 'str'>\n",
      "@@@@@@@@@@@@@@@@@@@@@@@@@@ yoo\n",
      "{'a': {'b': {'c': <function <lambda> at 0x7f319375e790>}}, 'redis': {'a': {'b': {'c': {'value': 3, 'd': {'e': {'f': {'g': 'AMAZING *this is saved to redis via xo********'}}}}}, 'value': 'super easy'}, 'b': 'to save in redis'}, 'zmq': {'nice': {'awesome': 'please breath'}}, 'use': <function <lambda> at 0x7f31b4ec5550>, 'value': 'yoo'}\n"
     ]
    }
   ],
   "source": [
    "from xo import *\n",
    "a = lambda x: x@xo\n",
    "\n",
    "# xo.zmq@\"namespace\"                                                                              # type: ignore\n",
    "xo.zmq@\"recording_app\"                                                                          # type: ignore\n",
    "xo.zmq.nice.awesome = \"please breath\"                                                                          # type: ignore\n",
    "\n",
    "\n",
    "xo.use = lambda x: x@xo\n",
    "xo.use(\"yoo\")\n",
    "\n",
    "print(xo)"
   ]
  }
 ],
 "metadata": {
  "kernelspec": {
   "display_name": "Python 3.8.12 64-bit",
   "language": "python",
   "name": "python3"
  },
  "language_info": {
   "codemirror_mode": {
    "name": "ipython",
    "version": 3
   },
   "file_extension": ".py",
   "mimetype": "text/x-python",
   "name": "python",
   "nbconvert_exporter": "python",
   "pygments_lexer": "ipython3",
   "version": "3.8.12"
  },
  "orig_nbformat": 4,
  "vscode": {
   "interpreter": {
    "hash": "0adcc2737ebf6a4a119f135174df96668767fca1ef1112612db5ecadf2b6d608"
   }
  }
 },
 "nbformat": 4,
 "nbformat_minor": 2
}
