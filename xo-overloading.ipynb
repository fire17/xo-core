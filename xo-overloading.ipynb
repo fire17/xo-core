{
 "cells": [
  {
   "cell_type": "code",
   "execution_count": 1,
   "metadata": {},
   "outputs": [
    {
     "name": "stdout",
     "output_type": "stream",
     "text": [
      "{'a': {'b': {'c': {'value': 1, 'd': no custom}}}}\n"
     ]
    }
   ],
   "source": [
    "from xo import *\n",
    "\n",
    "\n",
    "def customGet(self, package={\"self\": None}, *args, **kwargs):\n",
    "    print(\" ::: CUSTOM GET ::: \",args,kwargs)\n",
    "    return \"_NotOverloaded_\"\n",
    "\n",
    "\n",
    "def customSet(self,package={\"self\":None, \"value\":None,\"item\":None}, *args, **kwargs):\n",
    "    print(\" ::: CUSTOM SET ::: \", package[\"value\"], args, kwargs)\n",
    "    return True\n",
    "\n",
    "xo.a.b.c._get = customGet\n",
    "xo.a.b.c._set = customSet\n",
    "\n",
    "xo.a.b.c = 1\n",
    "xo.a.b.c.d = \"no custom\"\n",
    "print(xo)\n",
    "\n"
   ]
  }
 ],
 "metadata": {
  "kernelspec": {
   "display_name": "Python 3.8.12 64-bit",
   "language": "python",
   "name": "python3"
  },
  "language_info": {
   "codemirror_mode": {
    "name": "ipython",
    "version": 3
   },
   "file_extension": ".py",
   "mimetype": "text/x-python",
   "name": "python",
   "nbconvert_exporter": "python",
   "pygments_lexer": "ipython3",
   "version": "3.8.12"
  },
  "orig_nbformat": 4,
  "vscode": {
   "interpreter": {
    "hash": "0adcc2737ebf6a4a119f135174df96668767fca1ef1112612db5ecadf2b6d608"
   }
  }
 },
 "nbformat": 4,
 "nbformat_minor": 2
}
