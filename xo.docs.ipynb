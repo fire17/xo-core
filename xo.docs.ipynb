{
 "cells": [
  {
   "cell_type": "markdown",
   "metadata": {},
   "source": [
    "<center>xo-docs"
   ]
  },
  {
   "cell_type": "code",
   "execution_count": 1,
   "metadata": {},
   "outputs": [],
   "source": [
    "\n",
    "from xo import *\n",
    "import redis\n",
    "r = redis.Redis(host='0.0.0.0', port=6379, db=0)\n",
    "# pubsub = r.pubsub()\n",
    "\n",
    "\n",
    "def docsSet(self,name,value=None, *args, **kwargs):\n",
    "    # print(\"YYYYYYYYYYYYEEEEEEEEESSSSSSSSSSSet\",self._id,name,value, args, kwargs)\n",
    "    self[name] # double set to update (created, then update)\n",
    "    # if len (args) == 0 or value is None or name is None:\n",
    "    if value is None or name is None:\n",
    "        pass # print(\"00000000000000\", self._id, name, value, args, kwargs)\n",
    "    elif len(args) == 0:\n",
    "        # print(\"111111111111111111110\", self._id, name, value, args, kwargs)\n",
    "        # res = self.__setattr__(*args, **kwargs)\n",
    "        redisID = self._id+\"/\"+name\n",
    "        kwargs[\"_skip_overload\"] = True\n",
    "        # print(type(self),self)\n",
    "        self[name]._setValue(value)\n",
    "        self.__setattr__(name, value, *args, **kwargs)\n",
    "        res = r.set(redisID, value)\n",
    "        # print(\"vvvvvvvvvvvv2\",type(value),value)\n",
    "        print(\" ::: REDIS SET:\", redisID,\":::\", value)\n",
    "        r.publish(redisID, value)\n",
    "        res = r.get(self._id)\n",
    "        print(f\" ::: REDIS SET RESULTS: ({redisID})\", \":::\", res, \":::\", self, \":::\")\n",
    "        # self[args[0]]._setValue(res)\n",
    "        # print(\"RES\", res)\n",
    "        # self.value = value\n",
    "        # print(\"ttt\", name, value, self)\n",
    "        # self[name]._setValue(value)\n",
    "        # return res\n",
    "        # # print(\" ::: REDIS GET:\", self._id, args, kwargs)\n",
    "        # print(\" ::: REDIS RESULTS:\", res)\n",
    "        return value\n",
    "    else:\n",
    "        redisID = self._id+\"/\"+name\n",
    "        print(\" ::: REDIS SET !\",redisID, args, kwargs)\n",
    "        res = r.set(redisID, value)\n",
    "        r.publish(redisID, value)\n",
    "        # self[args[0]].value = res\n",
    "        # print(\" ::: REDIS RESULTS:\", res)\n",
    "        self[name]._setValue(value)\n",
    "        print(f\" ::: REDIS SET RESULTS: ({redisID})\", \":::\", res, \":::\", self, \":::\")\n",
    "        # self.__setattr__(self,args[0], res, _skip_overload=True)# *args, **kwargs)\n",
    "        # *args, **kwargs)\n",
    "        self.__setattr__(name, value, _skip_overload=True)  # *args, **kwargs)\n",
    "        return value\n",
    "\n",
    "def docsCall(self, *args, **kwargs):\n",
    "    # print(\"YYYYYYYYYYYYEEEEEEEEESSSSSSSSSSSCCC\",self._id, args, kwargs)\n",
    "    print(\" ::: REDIS SET CALL!\", self._id, \":::\", args, \":::\", kwargs)\n",
    "    kwargs[\"_skip_overload\"] = True\n",
    "    if len (args) == 0:\n",
    "        # print(\" ::: REDIS GET CALL:\", self._id, \":::\", args, \":::\", kwargs, \":::\")\n",
    "        res = r.get(self._id)\n",
    "        self._setValue(res)\n",
    "        self.value = res\n",
    "        # print(\" ::: REDIS RESULTS:\", res)\n",
    "        print(f\" ::: REDIS GET RESULTS: ({self._id})\", \":::\", res, \":::\", self, \":::\")\n",
    "        return res\n",
    "    else:\n",
    "        res = r.set(self._id, args[0])\n",
    "        # print(\"vvvvvvvvvvvv\", type(value), value)\n",
    "        # print(args[0],type(args[0]))\n",
    "        r.publish(self._id, args[0])\n",
    "        print(\" ::: REDIS RESULTS:\", res)\n",
    "        self._setValue(args[0])\n",
    "        print(f\" ::: REDIS SET RESULTS: ({self._id})\", \":::\", res, \":::\", self, \":::\")\n",
    "        return self\n",
    "\n",
    "\n",
    "    # self.__call__(self, *args, **kwargs)\n",
    "    # if \"org\" in kwargs:\n",
    "    #     return kwargs[\"org\"](self, overload=False, *args, **kwargs)\n",
    "\n",
    "# xo.redis._behaviors = {Expando.__call__: redisCall,\n",
    "#                        Expando.__setattr__: redisSet}"
   ]
  },
  {
   "cell_type": "code",
   "execution_count": 2,
   "metadata": {},
   "outputs": [
    {
     "name": "stdout",
     "output_type": "stream",
     "text": [
      "{'a': {'b': {'c': {'d': {'e': {'f': {'g': {'h': {'i': {'j': {'k': {'l': {'m': {'n': {'ooooooo': {'p': {'q': {'r': {'s': {'t': {'u': {'v': 2}}}}}}}}}}}}}}}}}}}}}}\n",
      "@= @@@@@@@@@@@@ <function <lambda> at 0x7ff61e208c10>\n",
      " ::: Subscribing to a\n",
      "@= @@@@@@@@@@@@ <function <lambda> at 0x7ff61e208d30>\n",
      " ::: Subscribing to zzz\n",
      "\n",
      "\n",
      "\n",
      "AAAAAA 1\n",
      "zzz 3\n",
      "1 3\n",
      "\n",
      "\n",
      "\n",
      "XXXXXX None\n"
     ]
    },
    {
     "ename": "",
     "evalue": "",
     "output_type": "error",
     "traceback": [
      "The Kernel crashed while executing code in the the current cell or a previous cell. Please review the code in the cell(s) to identify a possible cause of the failure. Click <a href='https://aka.ms/vscodeJupyterKernelCrash'>here</a> for more info. View Jupyter <a href='command:jupyter.viewOutput'>log</a> for further details."
     ]
    }
   ],
   "source": [
    "# Overloading Docs\n",
    "# xo._docs._behaviors = {Expando.__call__: redisCall,\n",
    "#                        Expando.__setattr__: redisSet}\n",
    "# from xo import *\n",
    "\n",
    "# x = Expando()\n",
    "\n",
    "# xo.a.b.c.d.e = 3\n",
    "# xo[\"a\"].b[\"c\"].d[\"e\"] = 3\n",
    "# print(xo.a.b[\"c\"][\"d\"])\n",
    "# print(xo)\n",
    "oo = \"ooooooo\"\n",
    "xo.a.b.c.d.e.f.g.h.i.j.k.l.m.n[oo].p.q.r.s.t.u[\"v\"] = 2\n",
    "print(xo)\n",
    "xo.f.a @= lambda x : print(\"AAAAAA\",x)\n",
    "xo.f.zzz @= lambda x : print(\"zzz\",x)\n",
    "print()\n",
    "print()\n",
    "print()\n",
    "xo.f.a = 1\n",
    "xo.f.zzz = 3\n",
    "print(xo.f.a,xo.f.zzz)\n",
    "print()\n",
    "print()\n",
    "print()\n",
    "\n",
    "print(\"XXXXXX\",xo.a.b[\"x\"].value)\n",
    "\n",
    "def __foo__(x):\n",
    "    xo.docs[__foo__.__hash__()].help = \"foobar :)\"\n",
    "    # xo._docs[__foo__].help = \"foobar :)\"\n",
    "    __foo__.__dict__[\"help\"] = \"foobar\"\n",
    "\n",
    "# __foo__(\"bar\")\n",
    "\n",
    "# print(__foo__.help)\n"
   ]
  }
 ],
 "metadata": {
  "kernelspec": {
   "display_name": "Python 3.8.12 64-bit",
   "language": "python",
   "name": "python3"
  },
  "language_info": {
   "codemirror_mode": {
    "name": "ipython",
    "version": 3
   },
   "file_extension": ".py",
   "mimetype": "text/x-python",
   "name": "python",
   "nbconvert_exporter": "python",
   "pygments_lexer": "ipython3",
   "version": "3.8.12"
  },
  "orig_nbformat": 4,
  "vscode": {
   "interpreter": {
    "hash": "0adcc2737ebf6a4a119f135174df96668767fca1ef1112612db5ecadf2b6d608"
   }
  }
 },
 "nbformat": 4,
 "nbformat_minor": 2
}
