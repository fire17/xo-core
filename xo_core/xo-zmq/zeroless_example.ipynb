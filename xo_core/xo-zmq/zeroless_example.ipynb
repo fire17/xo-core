{
 "cells": [
  {
   "cell_type": "code",
   "execution_count": null,
   "metadata": {},
   "outputs": [],
   "source": [
    "from zeroless import Server, Client\n",
    "import traceback\n",
    "zmq = Server(port = 1212)\n",
    "\n",
    "reply, listen_for_request = zmq.reply()\n",
    "c = 0\n",
    "for msg in listen_for_request:\n",
    "    c+=1\n",
    "    try:\n",
    "        print(c, \"::: INCOMING:\",msg)\n",
    "        # f\"ECHO! {msg}\".encode()\n",
    "        # reply(bytes(\"ECHO! \"+str(msg)))\n",
    "        reply(f\"ECHO! {msg}\".encode())\n",
    "        # reply(msg)\n",
    "    except:\n",
    "        traceback.print_exc()\n",
    "    finally:\n",
    "        pass"
   ]
  },
  {
   "cell_type": "code",
   "execution_count": null,
   "metadata": {},
   "outputs": [],
   "source": [
    "from zeroless import Server, Client\n",
    "import traceback\n",
    "import time\n",
    "# Connects the client to as many servers as desired\n",
    "client = Client()\n",
    "def connect(client, ):\n",
    "    client.disconnect(ip=\"127.0.0.1\",port=serverPort)\n",
    "    client.connect(ip=\"127.0.0.1\",port=serverPort)\n",
    "    return client\n",
    "\n",
    "serverPort = 1981\n",
    "connect(client)\n",
    "# Initiate a request client\n",
    "# And assigns a callable and an iterable\n",
    "# To both transmit and wait for incoming messages\n",
    "request, listen_for_reply = client.request()\n",
    "request, listen_for_reply = client\n",
    "\n",
    "c = 0\n",
    "t = time.time()\n",
    "while time.time()-t < 0.01:\n",
    "    c+=1\n",
    "    try:\n",
    "        request(f\"sara is amazing X {c}\".encode())\n",
    "        response = next(listen_for_reply)\n",
    "        print(response)\n",
    "    except:\n",
    "        traceback.print_exc()\n",
    "        client.disconnect_all()\n",
    "        client.connect_local(port=serverPort)\n",
    "        request, listen_for_reply = client.request()\n",
    "    finally:\n",
    "        pass\n",
    "\n",
    "\n",
    "print(f\"Elapsed for {c} {time.time()-t}\")\n",
    "\n"
   ]
  },
  {
   "cell_type": "code",
   "execution_count": null,
   "metadata": {},
   "outputs": [],
   "source": [
    "# LEVEL 1, one server, many clients (one namespace)\n",
    "\n",
    "# LEVEL 2 , distributed servers (for each process), many clients, many namespaces"
   ]
  },
  {
   "cell_type": "code",
   "execution_count": null,
   "metadata": {},
   "outputs": [],
   "source": [
    "from xo_zmq import zmq\n",
    "\n",
    "\n",
    "Robee = zmq.Robee # zmq is on port 1001\n",
    "\n",
    "# get response from server\n",
    "resp = Robee.webapi.foo(\"bar\")\n",
    "\n",
    "# send data \n",
    "Robee.arduino.somedata = 3 # publish data to id\n",
    "\n",
    "\n",
    "\n",
    "\n"
   ]
  }
 ],
 "metadata": {
  "kernelspec": {
   "display_name": "Python 3.8.12 64-bit",
   "language": "python",
   "name": "python3"
  },
  "language_info": {
   "name": "python",
   "version": "3.8.12"
  },
  "orig_nbformat": 4,
  "vscode": {
   "interpreter": {
    "hash": "0adcc2737ebf6a4a119f135174df96668767fca1ef1112612db5ecadf2b6d608"
   }
  }
 },
 "nbformat": 4,
 "nbformat_minor": 2
}
